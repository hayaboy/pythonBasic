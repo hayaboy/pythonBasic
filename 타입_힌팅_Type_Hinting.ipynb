{
  "nbformat": 4,
  "nbformat_minor": 0,
  "metadata": {
    "colab": {
      "provenance": [],
      "authorship_tag": "ABX9TyNPY34M9TLMgzXrvAPagH2B",
      "include_colab_link": true
    },
    "kernelspec": {
      "name": "python3",
      "display_name": "Python 3"
    },
    "language_info": {
      "name": "python"
    }
  },
  "cells": [
    {
      "cell_type": "markdown",
      "metadata": {
        "id": "view-in-github",
        "colab_type": "text"
      },
      "source": [
        "<a href=\"https://colab.research.google.com/github/hayaboy/pythonBasic/blob/main/%ED%83%80%EC%9E%85_%ED%9E%8C%ED%8C%85_Type_Hinting.ipynb\" target=\"_parent\"><img src=\"https://colab.research.google.com/assets/colab-badge.svg\" alt=\"Open In Colab\"/></a>"
      ]
    },
    {
      "cell_type": "markdown",
      "source": [
        "파이썬 타입 힌팅(Type Hinting)은 코드 내에서 변수, 함수의 인자 및 반환값 등에 대해 데이터 타입을 명시적으로 지정하는 방법입니다. 이는 코드의 가독성을 높이고, 타입 관련 오류를 사전에 방지하며, IDE(통합 개발 환경)와 같은 도구에서 자동 완성 및 타입 검사를 보다 효과적으로 수행할 수 있게 합니다."
      ],
      "metadata": {
        "id": "fKV2KCK9n4hM"
      }
    },
    {
      "cell_type": "markdown",
      "source": [
        "타입 힌팅의 주요 목적\n",
        "\n",
        "코드 가독성 향상: 타입 힌팅을 통해 다른 개발자들이 코드를 읽고 이해하기 쉽게 만듭니다.\n",
        "오류 예방: 잘못된 타입 사용으로 인한 오류를 줄일 수 있습니다.\n",
        "도구 지원 강화: IDE와 같은 개발 도구가 타입 힌팅 정보를 이용해 자동 완성, 타입 검사, 리팩토링 등을 더 잘 지원할 수 있습니다."
      ],
      "metadata": {
        "id": "qjfi_lp2n-eT"
      }
    },
    {
      "cell_type": "markdown",
      "source": [
        "기본 사용법\n",
        "\n",
        "타입 힌팅은 Python 3.5에서 도입되었으며, Python 3.6 이상에서 더 많이 사용됩니다. 다음은 타입 힌팅의 기본적인 사용 예시입니다:"
      ],
      "metadata": {
        "id": "65uSqU4qoHmj"
      }
    },
    {
      "cell_type": "code",
      "source": [
        "def greet(name:str) -> str:\n",
        "  return f'hi, {name}'"
      ],
      "metadata": {
        "id": "ECh_G2DVoKZV"
      },
      "execution_count": 3,
      "outputs": []
    },
    {
      "cell_type": "code",
      "source": [
        "greet('gildong')"
      ],
      "metadata": {
        "colab": {
          "base_uri": "https://localhost:8080/",
          "height": 35
        },
        "id": "2r08Cwg7obG9",
        "outputId": "14321fe4-9c72-4144-d801-84ed07fce7f3"
      },
      "execution_count": 4,
      "outputs": [
        {
          "output_type": "execute_result",
          "data": {
            "text/plain": [
              "'hi, gildong'"
            ],
            "application/vnd.google.colaboratory.intrinsic+json": {
              "type": "string"
            }
          },
          "metadata": {},
          "execution_count": 4
        }
      ]
    },
    {
      "cell_type": "code",
      "source": [
        "greet(10)"
      ],
      "metadata": {
        "colab": {
          "base_uri": "https://localhost:8080/",
          "height": 35
        },
        "id": "-dS4V_BWom2s",
        "outputId": "9a0a7d71-9f30-4e71-fdca-bcac12f829b2"
      },
      "execution_count": 5,
      "outputs": [
        {
          "output_type": "execute_result",
          "data": {
            "text/plain": [
              "'hi, 10'"
            ],
            "application/vnd.google.colaboratory.intrinsic+json": {
              "type": "string"
            }
          },
          "metadata": {},
          "execution_count": 5
        }
      ]
    },
    {
      "cell_type": "code",
      "source": [
        "def add_numbers(a: int, b: int) -> int:\n",
        "    return a + b"
      ],
      "metadata": {
        "id": "Bmqowj0Co1NL"
      },
      "execution_count": 6,
      "outputs": []
    },
    {
      "cell_type": "code",
      "source": [
        "num1=add_numbers(4,5)"
      ],
      "metadata": {
        "id": "fR4YdVf6pIgU"
      },
      "execution_count": 7,
      "outputs": []
    },
    {
      "cell_type": "code",
      "source": [
        "num1"
      ],
      "metadata": {
        "colab": {
          "base_uri": "https://localhost:8080/"
        },
        "id": "TOSx5QffpNEl",
        "outputId": "17bc75e6-c50d-4255-905b-2c60d089180e"
      },
      "execution_count": 8,
      "outputs": [
        {
          "output_type": "execute_result",
          "data": {
            "text/plain": [
              "9"
            ]
          },
          "metadata": {},
          "execution_count": 8
        }
      ]
    },
    {
      "cell_type": "markdown",
      "source": [
        "타입 힌팅의 다양한 예\n",
        "\n",
        "변수 타입 힌팅:"
      ],
      "metadata": {
        "id": "z4EWzqxupnXE"
      }
    },
    {
      "cell_type": "code",
      "source": [
        "# add_numbers(4,'5')"
      ],
      "metadata": {
        "id": "H9glfMmPpNll"
      },
      "execution_count": 10,
      "outputs": []
    },
    {
      "cell_type": "code",
      "source": [
        "age:int=25\n",
        "name:str='GilDong'\n",
        "is_active:bool=True"
      ],
      "metadata": {
        "id": "DzQDM_vspQkN"
      },
      "execution_count": 11,
      "outputs": []
    },
    {
      "cell_type": "code",
      "source": [
        "type(age)"
      ],
      "metadata": {
        "colab": {
          "base_uri": "https://localhost:8080/"
        },
        "id": "GgbL4jOcpboF",
        "outputId": "68192787-7fae-4ccb-94cd-9014a3898e50"
      },
      "execution_count": 12,
      "outputs": [
        {
          "output_type": "execute_result",
          "data": {
            "text/plain": [
              "int"
            ]
          },
          "metadata": {},
          "execution_count": 12
        }
      ]
    },
    {
      "cell_type": "markdown",
      "source": [
        "리스트와 딕셔너리:"
      ],
      "metadata": {
        "id": "YAhETEWdpwBM"
      }
    },
    {
      "cell_type": "code",
      "source": [
        "from typing import List, Dict"
      ],
      "metadata": {
        "id": "rmfyDH3Epekd"
      },
      "execution_count": 13,
      "outputs": []
    },
    {
      "cell_type": "code",
      "source": [
        "help(List)"
      ],
      "metadata": {
        "colab": {
          "base_uri": "https://localhost:8080/"
        },
        "id": "H5IlUW5lp4p0",
        "outputId": "6465e23a-08e5-48a4-dbcd-e39d63994ad3"
      },
      "execution_count": 14,
      "outputs": [
        {
          "output_type": "stream",
          "name": "stdout",
          "text": [
            "Help on _SpecialGenericAlias in module typing:\n",
            "\n",
            "List = typing.List\n",
            "    A generic version of list.\n",
            "\n"
          ]
        }
      ]
    },
    {
      "cell_type": "code",
      "source": [
        "numbers:List[int]=[1,2,3]"
      ],
      "metadata": {
        "id": "YumyLINip9xl"
      },
      "execution_count": 16,
      "outputs": []
    },
    {
      "cell_type": "code",
      "source": [
        "numbers"
      ],
      "metadata": {
        "colab": {
          "base_uri": "https://localhost:8080/"
        },
        "id": "XitMZfN-qXJ8",
        "outputId": "519e1c2a-6a2c-4392-8a07-97d82836bc71"
      },
      "execution_count": 17,
      "outputs": [
        {
          "output_type": "execute_result",
          "data": {
            "text/plain": [
              "[1, 2, 3]"
            ]
          },
          "metadata": {},
          "execution_count": 17
        }
      ]
    },
    {
      "cell_type": "code",
      "source": [
        "type(numbers)"
      ],
      "metadata": {
        "colab": {
          "base_uri": "https://localhost:8080/"
        },
        "id": "ThKVVkBTqf6n",
        "outputId": "aa3b26f3-4ab8-40cc-ff10-696761d5623c"
      },
      "execution_count": 18,
      "outputs": [
        {
          "output_type": "execute_result",
          "data": {
            "text/plain": [
              "list"
            ]
          },
          "metadata": {},
          "execution_count": 18
        }
      ]
    },
    {
      "cell_type": "code",
      "source": [
        "user_info: Dict[str, str] = {\"name\": \"Alice\", \"email\": \"alice@example.com\"}"
      ],
      "metadata": {
        "id": "h09IEO4zqhmM"
      },
      "execution_count": 19,
      "outputs": []
    },
    {
      "cell_type": "code",
      "source": [
        "user_info['name']"
      ],
      "metadata": {
        "colab": {
          "base_uri": "https://localhost:8080/",
          "height": 35
        },
        "id": "0I_wKf02qs70",
        "outputId": "c6fd5b7a-daab-41da-a097-ae79cf0eca52"
      },
      "execution_count": 20,
      "outputs": [
        {
          "output_type": "execute_result",
          "data": {
            "text/plain": [
              "'Alice'"
            ],
            "application/vnd.google.colaboratory.intrinsic+json": {
              "type": "string"
            }
          },
          "metadata": {},
          "execution_count": 20
        }
      ]
    },
    {
      "cell_type": "markdown",
      "source": [
        "옵셔널 타입:"
      ],
      "metadata": {
        "id": "5EP67T5_q3nk"
      }
    },
    {
      "cell_type": "code",
      "source": [
        "from typing import Optional"
      ],
      "metadata": {
        "id": "3ssw8zsPqwGU"
      },
      "execution_count": 21,
      "outputs": []
    },
    {
      "cell_type": "code",
      "source": [
        "help(Optional)"
      ],
      "metadata": {
        "colab": {
          "base_uri": "https://localhost:8080/"
        },
        "id": "_pxyfvhzswrv",
        "outputId": "cee118e2-2108-436a-9e5c-a5d1a09beceb"
      },
      "execution_count": 26,
      "outputs": [
        {
          "output_type": "stream",
          "name": "stdout",
          "text": [
            "Help on _SpecialForm in module typing:\n",
            "\n",
            "Optional = typing.Optional\n",
            "    Optional type.\n",
            "    \n",
            "    Optional[X] is equivalent to Union[X, None].\n",
            "\n"
          ]
        }
      ]
    },
    {
      "cell_type": "code",
      "source": [
        "def get_name(user_id: int) -> Optional[str]:\n",
        "    if user_id == 1:\n",
        "        return \"Alice\"\n",
        "    else:\n",
        "        return None"
      ],
      "metadata": {
        "id": "Y4BOvGlRq6v-"
      },
      "execution_count": 22,
      "outputs": []
    },
    {
      "cell_type": "code",
      "source": [
        "get_name(1)"
      ],
      "metadata": {
        "colab": {
          "base_uri": "https://localhost:8080/",
          "height": 35
        },
        "id": "Ub011HoCsTLP",
        "outputId": "0e9eb755-1823-4bc7-97f3-c6a83bea96b2"
      },
      "execution_count": 23,
      "outputs": [
        {
          "output_type": "execute_result",
          "data": {
            "text/plain": [
              "'Alice'"
            ],
            "application/vnd.google.colaboratory.intrinsic+json": {
              "type": "string"
            }
          },
          "metadata": {},
          "execution_count": 23
        }
      ]
    },
    {
      "cell_type": "markdown",
      "source": [
        "Optional[str]는 함수가 str 또는 None을 반환할 수 있음을 나타냅니다."
      ],
      "metadata": {
        "id": "bmEu6qzOsgpE"
      }
    },
    {
      "cell_type": "code",
      "source": [
        "print(get_name('hi'))"
      ],
      "metadata": {
        "colab": {
          "base_uri": "https://localhost:8080/"
        },
        "id": "EIXGZrEvsVNk",
        "outputId": "6ebeeab7-43eb-456d-82f5-2028ee74a530"
      },
      "execution_count": 25,
      "outputs": [
        {
          "output_type": "stream",
          "name": "stdout",
          "text": [
            "None\n"
          ]
        }
      ]
    },
    {
      "cell_type": "markdown",
      "source": [
        "유니언 타입:"
      ],
      "metadata": {
        "id": "iOL7M1fBs6eD"
      }
    },
    {
      "cell_type": "code",
      "source": [
        "from typing import Union\n",
        "\n",
        "def get_value(value: Union[int, str]) -> str:\n",
        "    return str(value)"
      ],
      "metadata": {
        "id": "qL5f_wkZsZBE"
      },
      "execution_count": 27,
      "outputs": []
    },
    {
      "cell_type": "code",
      "source": [
        "help(Union)"
      ],
      "metadata": {
        "colab": {
          "base_uri": "https://localhost:8080/"
        },
        "id": "AFdLYYkJtI_3",
        "outputId": "9b152bbc-f58a-4615-c1b1-76cd58a6045c"
      },
      "execution_count": 30,
      "outputs": [
        {
          "output_type": "stream",
          "name": "stdout",
          "text": [
            "Help on _SpecialForm in module typing:\n",
            "\n",
            "Union = typing.Union\n",
            "    Union type; Union[X, Y] means either X or Y.\n",
            "    \n",
            "    To define a union, use e.g. Union[int, str].  Details:\n",
            "    - The arguments must be types and there must be at least one.\n",
            "    - None as an argument is a special case and is replaced by\n",
            "      type(None).\n",
            "    - Unions of unions are flattened, e.g.::\n",
            "    \n",
            "        Union[Union[int, str], float] == Union[int, str, float]\n",
            "    \n",
            "    - Unions of a single argument vanish, e.g.::\n",
            "    \n",
            "        Union[int] == int  # The constructor actually returns int\n",
            "    \n",
            "    - Redundant arguments are skipped, e.g.::\n",
            "    \n",
            "        Union[int, str, int] == Union[int, str]\n",
            "    \n",
            "    - When comparing unions, the argument order is ignored, e.g.::\n",
            "    \n",
            "        Union[int, str] == Union[str, int]\n",
            "    \n",
            "    - You cannot subclass or instantiate a union.\n",
            "    - You can use Optional[X] as a shorthand for Union[X, None].\n",
            "\n"
          ]
        }
      ]
    },
    {
      "cell_type": "code",
      "source": [
        "get_value(1)"
      ],
      "metadata": {
        "colab": {
          "base_uri": "https://localhost:8080/",
          "height": 35
        },
        "id": "p3lnm6fftADN",
        "outputId": "5543a29b-b8e9-48c2-a320-3dda900eaef8"
      },
      "execution_count": 28,
      "outputs": [
        {
          "output_type": "execute_result",
          "data": {
            "text/plain": [
              "'1'"
            ],
            "application/vnd.google.colaboratory.intrinsic+json": {
              "type": "string"
            }
          },
          "metadata": {},
          "execution_count": 28
        }
      ]
    },
    {
      "cell_type": "code",
      "source": [
        "get_value(\"hi\")"
      ],
      "metadata": {
        "colab": {
          "base_uri": "https://localhost:8080/",
          "height": 35
        },
        "id": "PY0jFI4ltCUF",
        "outputId": "6bc5757c-938c-4c20-f531-e31ee173847d"
      },
      "execution_count": 29,
      "outputs": [
        {
          "output_type": "execute_result",
          "data": {
            "text/plain": [
              "'hi'"
            ],
            "application/vnd.google.colaboratory.intrinsic+json": {
              "type": "string"
            }
          },
          "metadata": {},
          "execution_count": 29
        }
      ]
    },
    {
      "cell_type": "code",
      "source": [
        "type(None)"
      ],
      "metadata": {
        "colab": {
          "base_uri": "https://localhost:8080/"
        },
        "id": "6DpBLurrtEq9",
        "outputId": "7afaa8e6-1196-4b18-95f1-e783f967be13"
      },
      "execution_count": 31,
      "outputs": [
        {
          "output_type": "execute_result",
          "data": {
            "text/plain": [
              "NoneType"
            ]
          },
          "metadata": {},
          "execution_count": 31
        }
      ]
    },
    {
      "cell_type": "code",
      "source": [
        "a=None"
      ],
      "metadata": {
        "id": "QU5F5D8atcbM"
      },
      "execution_count": 32,
      "outputs": []
    },
    {
      "cell_type": "code",
      "source": [
        "id(a)"
      ],
      "metadata": {
        "colab": {
          "base_uri": "https://localhost:8080/"
        },
        "id": "whtksPl4teQF",
        "outputId": "7d8d6750-aec8-4bd5-e69c-a32b57abe700"
      },
      "execution_count": 33,
      "outputs": [
        {
          "output_type": "execute_result",
          "data": {
            "text/plain": [
              "94938621166560"
            ]
          },
          "metadata": {},
          "execution_count": 33
        }
      ]
    },
    {
      "cell_type": "markdown",
      "source": [
        "사용자 정의 타입:"
      ],
      "metadata": {
        "id": "HP_CyJSmtqGU"
      }
    },
    {
      "cell_type": "code",
      "source": [
        "# help(TypedDict)"
      ],
      "metadata": {
        "id": "B03WqtZNt8of"
      },
      "execution_count": 38,
      "outputs": []
    },
    {
      "cell_type": "code",
      "source": [
        "from typing import TypedDict\n",
        "\n",
        "class User(TypedDict):\n",
        "    name: str\n",
        "    age: int\n",
        "\n",
        "def get_user() -> User:\n",
        "    return {\"name\": \"Alice\", \"age\": 30}"
      ],
      "metadata": {
        "id": "UTsNfkjwtfKc"
      },
      "execution_count": 34,
      "outputs": []
    },
    {
      "cell_type": "code",
      "source": [
        "user1=User()"
      ],
      "metadata": {
        "id": "uqPrd_OLtvWU"
      },
      "execution_count": 35,
      "outputs": []
    },
    {
      "cell_type": "code",
      "source": [
        "user1"
      ],
      "metadata": {
        "colab": {
          "base_uri": "https://localhost:8080/"
        },
        "id": "n04z4VUZt5eE",
        "outputId": "d8e47cbb-8fdd-4842-dadc-664da93ee703"
      },
      "execution_count": 36,
      "outputs": [
        {
          "output_type": "execute_result",
          "data": {
            "text/plain": [
              "{}"
            ]
          },
          "metadata": {},
          "execution_count": 36
        }
      ]
    },
    {
      "cell_type": "code",
      "source": [
        "user2=User({'길동': 30})"
      ],
      "metadata": {
        "id": "K9fWo3qqt6sE"
      },
      "execution_count": 42,
      "outputs": []
    },
    {
      "cell_type": "code",
      "source": [
        "user2"
      ],
      "metadata": {
        "colab": {
          "base_uri": "https://localhost:8080/"
        },
        "id": "2-2DEw80vY5u",
        "outputId": "ac988607-3729-450b-b43b-3ccbcf15ea99"
      },
      "execution_count": 46,
      "outputs": [
        {
          "output_type": "execute_result",
          "data": {
            "text/plain": [
              "{'길동': 30}"
            ]
          },
          "metadata": {},
          "execution_count": 46
        }
      ]
    },
    {
      "cell_type": "code",
      "source": [
        "user2['길동']"
      ],
      "metadata": {
        "colab": {
          "base_uri": "https://localhost:8080/"
        },
        "id": "RB6ywQKivufH",
        "outputId": "eecefaab-2b6d-4066-e175-23be39ee2020"
      },
      "execution_count": 47,
      "outputs": [
        {
          "output_type": "execute_result",
          "data": {
            "text/plain": [
              "30"
            ]
          },
          "metadata": {},
          "execution_count": 47
        }
      ]
    },
    {
      "cell_type": "markdown",
      "source": [
        "요약\n",
        "\n",
        "파이썬 타입 힌팅은 코드의 명확성과 안전성을 높이는 유용한 기능입니다. 이를 통해 코드의 유지보수성을 높이고, 잠재적인 버그를 사전에 예방할 수 있습니다. FastAPI와 같은 프레임워크는 이러한 타입 힌팅을 적극적으로 활용하여 더욱 효율적이고 안전한 코딩을 가능하게 합니다."
      ],
      "metadata": {
        "id": "BsFYR2JFwAic"
      }
    }
  ]
}