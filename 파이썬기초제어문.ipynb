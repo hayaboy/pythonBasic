{
  "cells": [
    {
      "cell_type": "markdown",
      "metadata": {
        "id": "view-in-github",
        "colab_type": "text"
      },
      "source": [
        "<a href=\"https://colab.research.google.com/github/hayaboy/pythonBasic/blob/main/%ED%8C%8C%EC%9D%B4%EC%8D%AC%EA%B8%B0%EC%B4%88%EC%A0%9C%EC%96%B4%EB%AC%B8.ipynb\" target=\"_parent\"><img src=\"https://colab.research.google.com/assets/colab-badge.svg\" alt=\"Open In Colab\"/></a>"
      ]
    },
    {
      "cell_type": "code",
      "execution_count": null,
      "id": "437267d7",
      "metadata": {
        "id": "437267d7"
      },
      "outputs": [],
      "source": [
        "# 조건문"
      ]
    },
    {
      "cell_type": "code",
      "execution_count": null,
      "id": "2f14f9c2",
      "metadata": {
        "id": "2f14f9c2",
        "outputId": "afa6449b-4a89-42ad-a92b-0ab2e1c80c87"
      },
      "outputs": [
        {
          "name": "stdout",
          "output_type": "stream",
          "text": [
            "hi\n"
          ]
        }
      ],
      "source": [
        "if True:\n",
        "    print(\"hi\")"
      ]
    },
    {
      "cell_type": "code",
      "execution_count": null,
      "id": "3e745d6c",
      "metadata": {
        "id": "3e745d6c",
        "outputId": "4e18bb33-7479-48ae-ad3a-03fe0b18666e"
      },
      "outputs": [
        {
          "name": "stdout",
          "output_type": "stream",
          "text": [
            "hi\n"
          ]
        }
      ],
      "source": [
        "if True:\n",
        "    print(\"hi\")\n",
        "else:\n",
        "    print(\"not\")"
      ]
    },
    {
      "cell_type": "code",
      "execution_count": null,
      "id": "287c8d53",
      "metadata": {
        "id": "287c8d53",
        "outputId": "ec30e25e-7704-4173-b79a-8d7149ab5d22"
      },
      "outputs": [
        {
          "name": "stdout",
          "output_type": "stream",
          "text": [
            "not\n"
          ]
        }
      ],
      "source": [
        "if False:\n",
        "    print(\"hi\")\n",
        "else:\n",
        "    print(\"not\")"
      ]
    },
    {
      "cell_type": "code",
      "execution_count": null,
      "id": "31f28e3c",
      "metadata": {
        "id": "31f28e3c",
        "outputId": "8839f55c-2081-4f9b-f43c-8a199c4c6a98"
      },
      "outputs": [
        {
          "name": "stdout",
          "output_type": "stream",
          "text": [
            "C\n"
          ]
        }
      ],
      "source": [
        "if False:\n",
        "    print(\"A\")\n",
        "elif False:\n",
        "    print(\"B\")\n",
        "else:\n",
        "    print(\"C\")"
      ]
    },
    {
      "cell_type": "code",
      "execution_count": null,
      "id": "05919549",
      "metadata": {
        "id": "05919549"
      },
      "outputs": [],
      "source": [
        "# 반복문"
      ]
    },
    {
      "cell_type": "code",
      "execution_count": null,
      "id": "b96503ce",
      "metadata": {
        "id": "b96503ce"
      },
      "outputs": [],
      "source": [
        "# 숫자 찍기"
      ]
    },
    {
      "cell_type": "code",
      "execution_count": null,
      "id": "1ffe65c5",
      "metadata": {
        "id": "1ffe65c5"
      },
      "outputs": [],
      "source": [
        "# help(range)"
      ]
    },
    {
      "cell_type": "code",
      "execution_count": null,
      "id": "1967e6a2",
      "metadata": {
        "id": "1967e6a2",
        "outputId": "44fde5ae-de4b-4e64-94bc-8ba3ab1b50a9"
      },
      "outputs": [
        {
          "data": {
            "text/plain": [
              "range(0, 5)"
            ]
          },
          "execution_count": 13,
          "metadata": {},
          "output_type": "execute_result"
        }
      ],
      "source": [
        "range(5)"
      ]
    },
    {
      "cell_type": "code",
      "execution_count": null,
      "id": "aa277e15",
      "metadata": {
        "id": "aa277e15",
        "outputId": "13f50ddc-6555-4fcd-c0d1-491d9c82dea8"
      },
      "outputs": [
        {
          "data": {
            "text/plain": [
              "[0, 1, 2, 3, 4]"
            ]
          },
          "execution_count": 14,
          "metadata": {},
          "output_type": "execute_result"
        }
      ],
      "source": [
        "list(range(5))"
      ]
    },
    {
      "cell_type": "code",
      "execution_count": null,
      "id": "6a54a7d7",
      "metadata": {
        "id": "6a54a7d7",
        "outputId": "cc72fa56-7b58-4dd4-8524-333f83119e6c"
      },
      "outputs": [
        {
          "name": "stdout",
          "output_type": "stream",
          "text": [
            "0\n",
            "1\n",
            "2\n",
            "3\n",
            "4\n"
          ]
        }
      ],
      "source": [
        "for i in range(5):\n",
        "    print(i)"
      ]
    },
    {
      "cell_type": "code",
      "execution_count": null,
      "id": "c70df5d3",
      "metadata": {
        "id": "c70df5d3"
      },
      "outputs": [],
      "source": [
        "# 컬렉션(iterable) : 문자열, 배열, 리스트, 튜플, 딕셔너리, 셋"
      ]
    },
    {
      "cell_type": "code",
      "execution_count": null,
      "id": "07c7bfc7",
      "metadata": {
        "id": "07c7bfc7",
        "outputId": "e6e5accb-aab3-4b69-a34a-3d2e13d4756c"
      },
      "outputs": [
        {
          "name": "stdout",
          "output_type": "stream",
          "text": [
            "h\n",
            "e\n",
            "l\n",
            "l\n",
            "o\n"
          ]
        }
      ],
      "source": [
        "for i in \"hello\":\n",
        "    print(i)"
      ]
    },
    {
      "cell_type": "code",
      "execution_count": null,
      "id": "8b4d9683",
      "metadata": {
        "id": "8b4d9683"
      },
      "outputs": [],
      "source": [
        "import numpy as np"
      ]
    },
    {
      "cell_type": "code",
      "execution_count": null,
      "id": "fc7dfb30",
      "metadata": {
        "id": "fc7dfb30",
        "outputId": "b8ca998c-d8f0-4196-f110-9f68c6af2cf1"
      },
      "outputs": [
        {
          "data": {
            "text/plain": [
              "array([1, 2, 3])"
            ]
          },
          "execution_count": 19,
          "metadata": {},
          "output_type": "execute_result"
        }
      ],
      "source": [
        "np.array([1,2,3])"
      ]
    },
    {
      "cell_type": "code",
      "execution_count": null,
      "id": "66f5106a",
      "metadata": {
        "id": "66f5106a"
      },
      "outputs": [],
      "source": [
        "arr1=np.array([1,2,3])"
      ]
    },
    {
      "cell_type": "code",
      "execution_count": null,
      "id": "47bfc351",
      "metadata": {
        "id": "47bfc351",
        "outputId": "8bd747cb-adbf-4ba7-d282-83194ed22519"
      },
      "outputs": [
        {
          "data": {
            "text/plain": [
              "numpy.ndarray"
            ]
          },
          "execution_count": 21,
          "metadata": {},
          "output_type": "execute_result"
        }
      ],
      "source": [
        "type(arr1)"
      ]
    },
    {
      "cell_type": "code",
      "execution_count": null,
      "id": "6e96f98a",
      "metadata": {
        "id": "6e96f98a",
        "outputId": "53d38388-90a2-437d-8a4a-4f49a179daaf"
      },
      "outputs": [
        {
          "name": "stdout",
          "output_type": "stream",
          "text": [
            "1\n",
            "2\n",
            "3\n"
          ]
        }
      ],
      "source": [
        "for i in arr1:\n",
        "    print(i)"
      ]
    },
    {
      "cell_type": "code",
      "execution_count": null,
      "id": "c136c8d7",
      "metadata": {
        "id": "c136c8d7"
      },
      "outputs": [],
      "source": [
        "li1=[1,'a',False]"
      ]
    },
    {
      "cell_type": "code",
      "execution_count": null,
      "id": "2754c35b",
      "metadata": {
        "id": "2754c35b",
        "outputId": "3c2d9900-feea-45cc-d327-2657db2a2c53"
      },
      "outputs": [
        {
          "name": "stdout",
          "output_type": "stream",
          "text": [
            "1\n",
            "a\n",
            "False\n"
          ]
        }
      ],
      "source": [
        "for i in li1:\n",
        "    print(i)"
      ]
    },
    {
      "cell_type": "code",
      "execution_count": null,
      "id": "3cf2ccd2",
      "metadata": {
        "id": "3cf2ccd2"
      },
      "outputs": [],
      "source": [
        "tu1=(1,'a',False)"
      ]
    },
    {
      "cell_type": "code",
      "execution_count": null,
      "id": "a4405c49",
      "metadata": {
        "id": "a4405c49",
        "outputId": "2e0ae0d2-a081-44b9-dd50-75be1da8cd99"
      },
      "outputs": [
        {
          "name": "stdout",
          "output_type": "stream",
          "text": [
            "1\n",
            "a\n",
            "False\n"
          ]
        }
      ],
      "source": [
        "for i in tu1:\n",
        "    print(i)"
      ]
    },
    {
      "cell_type": "code",
      "execution_count": null,
      "id": "1a9eea0e",
      "metadata": {
        "id": "1a9eea0e"
      },
      "outputs": [],
      "source": [
        "di1={'a':'apple', 'b':'banana'}"
      ]
    },
    {
      "cell_type": "code",
      "execution_count": null,
      "id": "c1bfc369",
      "metadata": {
        "id": "c1bfc369",
        "outputId": "7fa133ae-049c-4027-a949-c90f9b532880"
      },
      "outputs": [
        {
          "name": "stdout",
          "output_type": "stream",
          "text": [
            "a\n",
            "b\n"
          ]
        }
      ],
      "source": [
        "for i in di1:\n",
        "    print(i)"
      ]
    },
    {
      "cell_type": "code",
      "execution_count": null,
      "id": "f100794b",
      "metadata": {
        "id": "f100794b",
        "outputId": "91604d20-3dee-464d-ae44-d2d1850a1648"
      },
      "outputs": [
        {
          "name": "stdout",
          "output_type": "stream",
          "text": [
            "키: a, 값:apple\n",
            "키: b, 값:banana\n"
          ]
        }
      ],
      "source": [
        "for (k,v) in di1.items():\n",
        "    print(\"키: %s, 값:%s\" %(k,v))"
      ]
    },
    {
      "cell_type": "code",
      "execution_count": null,
      "id": "91f8a6fd",
      "metadata": {
        "id": "91f8a6fd",
        "outputId": "7b225c94-7dce-43b0-8343-c3ca8992e21d"
      },
      "outputs": [
        {
          "name": "stdout",
          "output_type": "stream",
          "text": [
            "값:apple\n",
            "값:banana\n"
          ]
        }
      ],
      "source": [
        "for (k,v) in di1.items():\n",
        "    print(\"값:%s\" %v)"
      ]
    },
    {
      "cell_type": "code",
      "execution_count": null,
      "id": "ae29b88b",
      "metadata": {
        "id": "ae29b88b"
      },
      "outputs": [],
      "source": [
        "# help(set)"
      ]
    },
    {
      "cell_type": "code",
      "execution_count": null,
      "id": "31a46476",
      "metadata": {
        "id": "31a46476"
      },
      "outputs": [],
      "source": [
        "set1=set([1,1,2])"
      ]
    },
    {
      "cell_type": "code",
      "execution_count": null,
      "id": "69a27aa7",
      "metadata": {
        "id": "69a27aa7",
        "outputId": "e25f51f1-fb6e-4d34-8fcf-fd66fcd4b28b"
      },
      "outputs": [
        {
          "data": {
            "text/plain": [
              "{1, 2}"
            ]
          },
          "execution_count": 32,
          "metadata": {},
          "output_type": "execute_result"
        }
      ],
      "source": [
        "set1"
      ]
    },
    {
      "cell_type": "code",
      "execution_count": null,
      "id": "c44aa958",
      "metadata": {
        "id": "c44aa958",
        "outputId": "8e2bc8c9-65dc-47c5-91a5-50042a6c098d"
      },
      "outputs": [
        {
          "data": {
            "text/plain": [
              "set"
            ]
          },
          "execution_count": 33,
          "metadata": {},
          "output_type": "execute_result"
        }
      ],
      "source": [
        "type(set1)"
      ]
    },
    {
      "cell_type": "code",
      "execution_count": null,
      "id": "d1a5dab1",
      "metadata": {
        "id": "d1a5dab1",
        "outputId": "4b30e4a8-8732-4380-d6d1-0fdecfc3e567"
      },
      "outputs": [
        {
          "name": "stdout",
          "output_type": "stream",
          "text": [
            "1\n",
            "2\n"
          ]
        }
      ],
      "source": [
        "for i in set1:\n",
        "    print(i)"
      ]
    },
    {
      "cell_type": "code",
      "execution_count": null,
      "id": "d9332486",
      "metadata": {
        "id": "d9332486",
        "outputId": "7744b1d5-a87a-4a19-dfdb-7a64a2e6b577"
      },
      "outputs": [
        {
          "name": "stdout",
          "output_type": "stream",
          "text": [
            "1\n",
            "2\n",
            "3\n",
            "4\n"
          ]
        }
      ],
      "source": [
        "a=1\n",
        "while a<5:\n",
        "    print(a)\n",
        "    a+=1"
      ]
    },
    {
      "cell_type": "code",
      "source": [
        "# 성적 처리(학생 5명의 국영수 평균 구하기) - 구글스프레드시트활용"
      ],
      "metadata": {
        "id": "R_L7V2ILkGns"
      },
      "id": "R_L7V2ILkGns",
      "execution_count": null,
      "outputs": []
    },
    {
      "cell_type": "code",
      "source": [
        "stu_score=[[49,43,49],\n",
        " [80,60,82],\n",
        " [20,85,48],\n",
        " [100,30,50],\n",
        " [80,90,100]\n",
        " ]"
      ],
      "metadata": {
        "id": "QXupRU5boVsw"
      },
      "id": "QXupRU5boVsw",
      "execution_count": null,
      "outputs": []
    },
    {
      "cell_type": "code",
      "source": [
        "stu_score"
      ],
      "metadata": {
        "id": "8rCUJfTeo4Jn",
        "outputId": "0f9a5445-fce5-4dcf-eb6d-11441f8e1e92",
        "colab": {
          "base_uri": "https://localhost:8080/"
        }
      },
      "id": "8rCUJfTeo4Jn",
      "execution_count": null,
      "outputs": [
        {
          "output_type": "execute_result",
          "data": {
            "text/plain": [
              "[[49, 43, 49], [80, 60, 82], [20, 85, 48], [100, 30, 50], [80, 90, 100]]"
            ]
          },
          "metadata": {},
          "execution_count": 6
        }
      ]
    },
    {
      "cell_type": "code",
      "source": [
        "subject_number=3"
      ],
      "metadata": {
        "id": "7I69OWsKrcyo"
      },
      "id": "7I69OWsKrcyo",
      "execution_count": null,
      "outputs": []
    },
    {
      "cell_type": "code",
      "source": [
        "for stu in stu_score:\n",
        "  stu_person_total=0\n",
        "  for subject in stu:\n",
        "    stu_person_total += subject\n",
        "  #print('학생별 총점 : %d ' %stu_person_total)\n",
        "  print('학생별 평균 : %.2f ' % (stu_person_total / subject_number))"
      ],
      "metadata": {
        "id": "RW68Oh-xo3FZ",
        "outputId": "23a039d0-26f1-45cb-f5d1-db72283bbe36",
        "colab": {
          "base_uri": "https://localhost:8080/"
        }
      },
      "id": "RW68Oh-xo3FZ",
      "execution_count": null,
      "outputs": [
        {
          "output_type": "stream",
          "name": "stdout",
          "text": [
            "학생별 평균 : 47.00 \n",
            "학생별 평균 : 74.00 \n",
            "학생별 평균 : 51.00 \n",
            "학생별 평균 : 60.00 \n",
            "학생별 평균 : 90.00 \n"
          ]
        }
      ]
    },
    {
      "cell_type": "code",
      "source": [
        "# 교재"
      ],
      "metadata": {
        "id": "uktNq0OvoVJh"
      },
      "id": "uktNq0OvoVJh",
      "execution_count": null,
      "outputs": []
    },
    {
      "cell_type": "code",
      "execution_count": null,
      "id": "2c77b9e8",
      "metadata": {
        "id": "2c77b9e8",
        "outputId": "244c4e14-28ee-4da2-b7f1-ad3b441ad1b3",
        "colab": {
          "base_uri": "https://localhost:8080/"
        }
      },
      "outputs": [
        {
          "output_type": "stream",
          "name": "stdout",
          "text": [
            "[47.0, 74.0, 51.0, 60.0, 90.0]\n"
          ]
        }
      ],
      "source": [
        "kor_score = [49, 80, 20, 100, 80]\n",
        "math_score = [43, 60, 85, 30, 90]\n",
        "eng_score = [49, 82, 48, 50, 100]\n",
        "midterm_score = [kor_score, math_score, eng_score]\n",
        "\n",
        "student_score = [0, 0, 0, 0, 0]\n",
        "i = 0\n",
        "for subject in midterm_score:\n",
        "    for score in subject:\n",
        "        student_score[i] += score                   # 학생마다 개별로 교과 점수를 저장\n",
        "        i += 1                                      # 학생 인덱스 구분\n",
        "    i = 0                                           # 과목이 바뀔 때 학생 인덱스 초기화\n",
        "\n",
        "\n",
        "a, b, c, d, e = student_score                   # 학생별 점수를 언패킹\n",
        "student_average = [a/3, b/3, c/3, d/3, e/3]\n",
        "print(student_average)"
      ]
    },
    {
      "cell_type": "code",
      "source": [
        "# 문자열 역순 출력"
      ],
      "metadata": {
        "id": "0KNmvHxKoXme"
      },
      "id": "0KNmvHxKoXme",
      "execution_count": 1,
      "outputs": []
    },
    {
      "cell_type": "code",
      "source": [
        "sentence = \"I love you\""
      ],
      "metadata": {
        "id": "e-gihpDmFcYg"
      },
      "id": "e-gihpDmFcYg",
      "execution_count": 2,
      "outputs": []
    },
    {
      "cell_type": "code",
      "source": [
        "sentence[::-1]"
      ],
      "metadata": {
        "colab": {
          "base_uri": "https://localhost:8080/",
          "height": 35
        },
        "id": "KoBAXTgMFgWm",
        "outputId": "0986a9ce-e871-4980-d6a5-e3a70bff7b3d"
      },
      "id": "KoBAXTgMFgWm",
      "execution_count": 3,
      "outputs": [
        {
          "output_type": "execute_result",
          "data": {
            "text/plain": [
              "'uoy evol I'"
            ],
            "application/vnd.google.colaboratory.intrinsic+json": {
              "type": "string"
            }
          },
          "metadata": {},
          "execution_count": 3
        }
      ]
    },
    {
      "cell_type": "code",
      "source": [
        "# 교재"
      ],
      "metadata": {
        "id": "xjfOmF8aFjYu"
      },
      "id": "xjfOmF8aFjYu",
      "execution_count": 4,
      "outputs": []
    },
    {
      "cell_type": "code",
      "source": [
        "reverse_sentence = ' '\n",
        "for char in sentence:\n",
        "  reverse_sentence = char + reverse_sentence\n",
        "print(reverse_sentence)"
      ],
      "metadata": {
        "colab": {
          "base_uri": "https://localhost:8080/"
        },
        "id": "_n_cBnv4Fp33",
        "outputId": "da424c18-7c8d-442c-f8ff-c3b91bc1cb68"
      },
      "id": "_n_cBnv4Fp33",
      "execution_count": 7,
      "outputs": [
        {
          "output_type": "stream",
          "name": "stdout",
          "text": [
            "uoy evol I \n"
          ]
        }
      ]
    },
    {
      "cell_type": "code",
      "source": [],
      "metadata": {
        "id": "yQYBfgKNFq0P"
      },
      "id": "yQYBfgKNFq0P",
      "execution_count": null,
      "outputs": []
    }
  ],
  "metadata": {
    "kernelspec": {
      "display_name": "Python 3 (ipykernel)",
      "language": "python",
      "name": "python3"
    },
    "language_info": {
      "codemirror_mode": {
        "name": "ipython",
        "version": 3
      },
      "file_extension": ".py",
      "mimetype": "text/x-python",
      "name": "python",
      "nbconvert_exporter": "python",
      "pygments_lexer": "ipython3",
      "version": "3.11.5"
    },
    "colab": {
      "provenance": [],
      "include_colab_link": true
    }
  },
  "nbformat": 4,
  "nbformat_minor": 5
}