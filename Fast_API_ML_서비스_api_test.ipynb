{
  "cells": [
    {
      "cell_type": "markdown",
      "metadata": {
        "id": "view-in-github",
        "colab_type": "text"
      },
      "source": [
        "<a href=\"https://colab.research.google.com/github/hayaboy/pythonBasic/blob/main/Fast_API_ML_%EC%84%9C%EB%B9%84%EC%8A%A4_api_test.ipynb\" target=\"_parent\"><img src=\"https://colab.research.google.com/assets/colab-badge.svg\" alt=\"Open In Colab\"/></a>"
      ]
    },
    {
      "cell_type": "markdown",
      "metadata": {
        "id": "KjKWvNqnfz19"
      },
      "source": [
        "## Read Root"
      ]
    },
    {
      "cell_type": "code",
      "execution_count": null,
      "metadata": {
        "id": "Zjpt0owZfz1-"
      },
      "outputs": [],
      "source": [
        "import pandas as pd"
      ]
    },
    {
      "cell_type": "code",
      "execution_count": null,
      "metadata": {
        "id": "oqEBZRgffz1_"
      },
      "outputs": [],
      "source": [
        "df = pd.read_csv(\"data.csv\")"
      ]
    },
    {
      "cell_type": "code",
      "execution_count": null,
      "metadata": {
        "id": "CMZCTEqGfz1_",
        "outputId": "50f8ad25-e225-42ff-9ba4-d3143a3e417e"
      },
      "outputs": [
        {
          "data": {
            "text/html": [
              "<div>\n",
              "<style scoped>\n",
              "    .dataframe tbody tr th:only-of-type {\n",
              "        vertical-align: middle;\n",
              "    }\n",
              "\n",
              "    .dataframe tbody tr th {\n",
              "        vertical-align: top;\n",
              "    }\n",
              "\n",
              "    .dataframe thead th {\n",
              "        text-align: right;\n",
              "    }\n",
              "</style>\n",
              "<table border=\"1\" class=\"dataframe\">\n",
              "  <thead>\n",
              "    <tr style=\"text-align: right;\">\n",
              "      <th></th>\n",
              "      <th>item_id</th>\n",
              "      <th>name</th>\n",
              "      <th>price</th>\n",
              "    </tr>\n",
              "  </thead>\n",
              "  <tbody>\n",
              "    <tr>\n",
              "      <th>0</th>\n",
              "      <td>1</td>\n",
              "      <td>apple</td>\n",
              "      <td>100</td>\n",
              "    </tr>\n",
              "    <tr>\n",
              "      <th>1</th>\n",
              "      <td>2</td>\n",
              "      <td>tangerine</td>\n",
              "      <td>200</td>\n",
              "    </tr>\n",
              "    <tr>\n",
              "      <th>2</th>\n",
              "      <td>2</td>\n",
              "      <td>melon</td>\n",
              "      <td>300</td>\n",
              "    </tr>\n",
              "    <tr>\n",
              "      <th>3</th>\n",
              "      <td>3</td>\n",
              "      <td>mango</td>\n",
              "      <td>400</td>\n",
              "    </tr>\n",
              "    <tr>\n",
              "      <th>4</th>\n",
              "      <td>3</td>\n",
              "      <td>orange</td>\n",
              "      <td>500</td>\n",
              "    </tr>\n",
              "    <tr>\n",
              "      <th>5</th>\n",
              "      <td>3</td>\n",
              "      <td>plum</td>\n",
              "      <td>600</td>\n",
              "    </tr>\n",
              "  </tbody>\n",
              "</table>\n",
              "</div>"
            ],
            "text/plain": [
              "   item_id       name  price\n",
              "0        1      apple    100\n",
              "1        2  tangerine    200\n",
              "2        2      melon    300\n",
              "3        3      mango    400\n",
              "4        3     orange    500\n",
              "5        3       plum    600"
            ]
          },
          "execution_count": 5,
          "metadata": {},
          "output_type": "execute_result"
        }
      ],
      "source": [
        "df"
      ]
    },
    {
      "cell_type": "code",
      "execution_count": null,
      "metadata": {
        "id": "sFaIRNcFfz2A",
        "outputId": "a106dab1-7bed-4909-9a67-36e8b3a72f25"
      },
      "outputs": [
        {
          "data": {
            "text/plain": [
              "0    False\n",
              "1    False\n",
              "2    False\n",
              "3     True\n",
              "4     True\n",
              "5     True\n",
              "Name: item_id, dtype: bool"
            ]
          },
          "execution_count": 7,
          "metadata": {},
          "output_type": "execute_result"
        }
      ],
      "source": [
        "df['item_id']==3"
      ]
    },
    {
      "cell_type": "code",
      "execution_count": null,
      "metadata": {
        "id": "DvSfU_D8fz2A",
        "outputId": "ad9ad8e4-6533-4586-f2bd-eaf3b65027b6"
      },
      "outputs": [
        {
          "data": {
            "text/html": [
              "<div>\n",
              "<style scoped>\n",
              "    .dataframe tbody tr th:only-of-type {\n",
              "        vertical-align: middle;\n",
              "    }\n",
              "\n",
              "    .dataframe tbody tr th {\n",
              "        vertical-align: top;\n",
              "    }\n",
              "\n",
              "    .dataframe thead th {\n",
              "        text-align: right;\n",
              "    }\n",
              "</style>\n",
              "<table border=\"1\" class=\"dataframe\">\n",
              "  <thead>\n",
              "    <tr style=\"text-align: right;\">\n",
              "      <th></th>\n",
              "      <th>item_id</th>\n",
              "      <th>name</th>\n",
              "      <th>price</th>\n",
              "    </tr>\n",
              "  </thead>\n",
              "  <tbody>\n",
              "    <tr>\n",
              "      <th>3</th>\n",
              "      <td>3</td>\n",
              "      <td>mango</td>\n",
              "      <td>400</td>\n",
              "    </tr>\n",
              "    <tr>\n",
              "      <th>4</th>\n",
              "      <td>3</td>\n",
              "      <td>orange</td>\n",
              "      <td>500</td>\n",
              "    </tr>\n",
              "    <tr>\n",
              "      <th>5</th>\n",
              "      <td>3</td>\n",
              "      <td>plum</td>\n",
              "      <td>600</td>\n",
              "    </tr>\n",
              "  </tbody>\n",
              "</table>\n",
              "</div>"
            ],
            "text/plain": [
              "   item_id    name  price\n",
              "3        3   mango    400\n",
              "4        3  orange    500\n",
              "5        3    plum    600"
            ]
          },
          "execution_count": 8,
          "metadata": {},
          "output_type": "execute_result"
        }
      ],
      "source": [
        "df[df['item_id']==3]"
      ]
    },
    {
      "cell_type": "code",
      "execution_count": null,
      "metadata": {
        "id": "qF5U5A1Vfz2A",
        "outputId": "8b9e2fd2-aac7-4d63-ba3f-e6623628e87b"
      },
      "outputs": [
        {
          "data": {
            "text/plain": [
              "3     mango\n",
              "4    orange\n",
              "5      plum\n",
              "Name: name, dtype: object"
            ]
          },
          "execution_count": 10,
          "metadata": {},
          "output_type": "execute_result"
        }
      ],
      "source": [
        "df[df['item_id']==3]['name']"
      ]
    },
    {
      "cell_type": "code",
      "execution_count": null,
      "metadata": {
        "id": "pG1hv1psfz2B",
        "outputId": "abc63e89-f0db-4e0c-bd31-99768e5ef32e"
      },
      "outputs": [
        {
          "data": {
            "text/plain": [
              "3     mango\n",
              "4    orange\n",
              "Name: name, dtype: object"
            ]
          },
          "execution_count": 12,
          "metadata": {},
          "output_type": "execute_result"
        }
      ],
      "source": [
        "df[df['item_id']==3]['name'].head(2)"
      ]
    },
    {
      "cell_type": "code",
      "execution_count": null,
      "metadata": {
        "id": "v-4nioJyfz2B",
        "outputId": "4a69056e-0f29-45cb-bdac-7a031060a900"
      },
      "outputs": [
        {
          "name": "stdout",
          "output_type": "stream",
          "text": [
            "{'item_id': {'0': 1, '1': 2, '2': 2, '3': 3, '4': 3, '5': 3},\n",
            " 'name': {'0': 'apple',\n",
            "          '1': 'tangerine',\n",
            "          '2': 'melon',\n",
            "          '3': 'mango',\n",
            "          '4': 'orange',\n",
            "          '5': 'plum'},\n",
            " 'price': {'0': 100, '1': 200, '2': 300, '3': 400, '4': 500, '5': 600}}\n"
          ]
        }
      ],
      "source": [
        "import requests\n",
        "import pprint\n",
        "\n",
        "url = 'http://localhost:8000/'\n",
        "res = requests.get(url)\n",
        "pprint.pprint(res.json())"
      ]
    },
    {
      "cell_type": "code",
      "execution_count": null,
      "metadata": {
        "id": "2uhDv6KJfz2B",
        "outputId": "7c3c88bd-9620-49fb-d14f-d1bb66b40d58"
      },
      "outputs": [
        {
          "data": {
            "text/plain": [
              "RangeIndex(start=0, stop=6, step=1)"
            ]
          },
          "execution_count": 13,
          "metadata": {},
          "output_type": "execute_result"
        }
      ],
      "source": [
        "df.index"
      ]
    },
    {
      "cell_type": "code",
      "execution_count": null,
      "metadata": {
        "id": "FEJkPsv-fz2C",
        "outputId": "1c8289cc-b06d-4e2f-95ec-f69e20b0b341"
      },
      "outputs": [
        {
          "data": {
            "text/plain": [
              "6"
            ]
          },
          "execution_count": 15,
          "metadata": {},
          "output_type": "execute_result"
        }
      ],
      "source": [
        "len(df.index)"
      ]
    },
    {
      "cell_type": "markdown",
      "metadata": {
        "id": "gQBXIa0Afz2C"
      },
      "source": [
        "## Read Item"
      ]
    },
    {
      "cell_type": "code",
      "execution_count": null,
      "metadata": {
        "id": "UKJKm-l7fz2C",
        "outputId": "126c2b1e-4151-4240-de68-07969fcd66f8"
      },
      "outputs": [
        {
          "name": "stdout",
          "output_type": "stream",
          "text": [
            "{'result': ['mango', 'orange']}\n"
          ]
        }
      ],
      "source": [
        "import requests\n",
        "import pprint\n",
        "\n",
        "item_id=3\n",
        "url = f'http://localhost:8000/items/{item_id}?'\n",
        "params={\n",
        "    'q' : 'name',\n",
        "    'limit' : 2\n",
        "}\n",
        "res = requests.get(url, params=params)\n",
        "pprint.pprint(res.json())"
      ]
    },
    {
      "cell_type": "code",
      "execution_count": null,
      "metadata": {
        "id": "IKMh9vXxfz2C",
        "outputId": "7c8ef7bc-fa51-49be-b61d-feb9e67a6ea6"
      },
      "outputs": [
        {
          "name": "stdout",
          "output_type": "stream",
          "text": [
            "{'result': ['mango', 'orange']}\n"
          ]
        }
      ],
      "source": [
        "import requests\n",
        "import pprint\n",
        "\n",
        "url = 'http://localhost:8000/items/3?q=name&limit=2'\n",
        "res = requests.get(url)\n",
        "pprint.pprint(res.json())"
      ]
    },
    {
      "cell_type": "markdown",
      "metadata": {
        "id": "3Bf8cyutfz2D"
      },
      "source": [
        "## Save Item"
      ]
    },
    {
      "cell_type": "code",
      "execution_count": null,
      "metadata": {
        "id": "NYCTaCDafz2D",
        "outputId": "293f7612-2112-478b-9775-d543241c9593"
      },
      "outputs": [
        {
          "name": "stdout",
          "output_type": "stream",
          "text": [
            "{'result': 'item_id 3 is saved!'}\n"
          ]
        }
      ],
      "source": [
        "import requests\n",
        "import pprint\n",
        "\n",
        "item_id=3\n",
        "url = f'http://localhost:8000/items/{item_id}?'\n",
        "body={\n",
        "    'name' : 'peach',\n",
        "    'price' : 1000\n",
        "}\n",
        "res = requests.post(url, json=body)\n",
        "pprint.pprint(res.json())"
      ]
    },
    {
      "cell_type": "code",
      "execution_count": null,
      "metadata": {
        "id": "YJUbcR11fz2D"
      },
      "outputs": [],
      "source": []
    }
  ],
  "metadata": {
    "kernelspec": {
      "display_name": "Python 3 (ipykernel)",
      "language": "python",
      "name": "python3"
    },
    "language_info": {
      "codemirror_mode": {
        "name": "ipython",
        "version": 3
      },
      "file_extension": ".py",
      "mimetype": "text/x-python",
      "name": "python",
      "nbconvert_exporter": "python",
      "pygments_lexer": "ipython3",
      "version": "3.11.7"
    },
    "vscode": {
      "interpreter": {
        "hash": "38363ebdada769ba66ab9b9fee653358c3d5a0646cc6d1346148f1d64fbf9db6"
      }
    },
    "colab": {
      "provenance": [],
      "include_colab_link": true
    }
  },
  "nbformat": 4,
  "nbformat_minor": 0
}