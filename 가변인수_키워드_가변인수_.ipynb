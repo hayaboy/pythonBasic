{
  "nbformat": 4,
  "nbformat_minor": 0,
  "metadata": {
    "colab": {
      "provenance": [],
      "authorship_tag": "ABX9TyPRmAxN6mMVcKylxzIi+ncw",
      "include_colab_link": true
    },
    "kernelspec": {
      "name": "python3",
      "display_name": "Python 3"
    },
    "language_info": {
      "name": "python"
    }
  },
  "cells": [
    {
      "cell_type": "markdown",
      "metadata": {
        "id": "view-in-github",
        "colab_type": "text"
      },
      "source": [
        "<a href=\"https://colab.research.google.com/github/hayaboy/pythonBasic/blob/main/%EA%B0%80%EB%B3%80%EC%9D%B8%EC%88%98_%ED%82%A4%EC%9B%8C%EB%93%9C_%EA%B0%80%EB%B3%80%EC%9D%B8%EC%88%98_.ipynb\" target=\"_parent\"><img src=\"https://colab.research.google.com/assets/colab-badge.svg\" alt=\"Open In Colab\"/></a>"
      ]
    },
    {
      "cell_type": "markdown",
      "source": [
        "파이썬에서 가변인수와 키워드 가변인수는 함수에 전달할 수 있는 인수의 수를 유연하게 하여 함수를 더 일반적으로 만들 수 있게 해줍니다. 두 가지는 다음과 같이 차이가 있습니다:\n",
        "\n",
        "가변인수 (*args):\n",
        "\n",
        "함수에 전달되는 위치 인수들을 튜플로 받습니다.\n",
        "예를 들어, 함수가 여러 개의 인수를 받도록 하고 싶을 때 사용됩니다."
      ],
      "metadata": {
        "id": "I2MJKCN88ZOZ"
      }
    },
    {
      "cell_type": "code",
      "source": [
        "def sum_all(*args):\n",
        "    total = 0\n",
        "    for num in args:\n",
        "        total += num\n",
        "    return total\n",
        "\n",
        "print(sum_all(1, 2, 3))  # 출력: 6\n",
        "print(sum_all(4, 5, 6, 7, 8))  # 출력: 30"
      ],
      "metadata": {
        "colab": {
          "base_uri": "https://localhost:8080/"
        },
        "id": "OQI1zodC8bEz",
        "outputId": "ed2c575c-c6b5-4336-bb80-b8ce85d190a2"
      },
      "execution_count": 1,
      "outputs": [
        {
          "output_type": "stream",
          "name": "stdout",
          "text": [
            "6\n",
            "30\n"
          ]
        }
      ]
    },
    {
      "cell_type": "markdown",
      "source": [
        "키워드 가변인수 (**kwargs):\n",
        "\n",
        "함수에 전달되는 키워드 인수들을 딕셔너리로 받습니다.\n",
        "키워드 인수는 이름과 값으로 전달되는 인수입니다."
      ],
      "metadata": {
        "id": "jrW5gadj8jnp"
      }
    },
    {
      "cell_type": "code",
      "source": [
        "def print_info(sung, **kwargs):\n",
        "    for key, value in kwargs.items():\n",
        "        print(sung, f\"{key}: {value}\")\n",
        "\n",
        "print_info('male', name=\"Alice\", age=30, city=\"New York\")\n",
        "# 출력:\n",
        "# name: Alice\n",
        "# age: 30\n",
        "# city: New York"
      ],
      "metadata": {
        "colab": {
          "base_uri": "https://localhost:8080/"
        },
        "id": "gEcGbqcl8i2C",
        "outputId": "779c744f-6cfc-4898-ce6f-8084309d87c6"
      },
      "execution_count": 4,
      "outputs": [
        {
          "output_type": "stream",
          "name": "stdout",
          "text": [
            "male name: Alice\n",
            "male age: 30\n",
            "male city: New York\n"
          ]
        }
      ]
    },
    {
      "cell_type": "markdown",
      "source": [
        "키워드 인수(keyword arguments)와 키워드 가변 인수(keyword variable arguments)는 비슷하지만 다릅니다. 정확한 차이를 설명하겠습니다."
      ],
      "metadata": {
        "id": "UxseKFeT-b7Z"
      }
    },
    {
      "cell_type": "markdown",
      "source": [
        "키워드 인수 (Keyword Arguments)\n",
        "함수 호출 시 인수의 이름과 값을 함께 명시하여 전달하는 인수입니다.\n",
        "이를 통해 함수 호출 시 어떤 값이 어떤 인수에 해당하는지 명확하게 지정할 수 있습니다.\n",
        "\n",
        "예제:"
      ],
      "metadata": {
        "id": "6vQCTSLq-iSf"
      }
    },
    {
      "cell_type": "code",
      "source": [
        "def greet(name, age=33):\n",
        "    print(f\"Hello, {name}. You are {age} years old.\")\n",
        "\n",
        "greet('kim')"
      ],
      "metadata": {
        "colab": {
          "base_uri": "https://localhost:8080/"
        },
        "id": "KciMrhJr8fIz",
        "outputId": "e42d9667-79bd-4653-863f-cd47fa88e0a6"
      },
      "execution_count": 16,
      "outputs": [
        {
          "output_type": "stream",
          "name": "stdout",
          "text": [
            "Hello, kim. You are 33 years old.\n"
          ]
        }
      ]
    },
    {
      "cell_type": "code",
      "source": [
        "greet(name=\"Alice\", age=30)"
      ],
      "metadata": {
        "colab": {
          "base_uri": "https://localhost:8080/"
        },
        "id": "KosU3g-9_jd_",
        "outputId": "d1c040bd-7eb0-4368-fa40-77e5b5ca9d80"
      },
      "execution_count": 12,
      "outputs": [
        {
          "output_type": "stream",
          "name": "stdout",
          "text": [
            "Hello, Alice. You are 30 years old.\n"
          ]
        }
      ]
    },
    {
      "cell_type": "markdown",
      "source": [
        "위의 예제에서 name=\"Alice\"와 age=30이 키워드 인수입니다. 이는 함수 호출 시 인수의 순서와 상관없이 인수를 명확히 지정할 수 있게 해줍니다."
      ],
      "metadata": {
        "id": "4hPcD16w-uKP"
      }
    },
    {
      "cell_type": "code",
      "source": [
        "greet(age=33, name=\"Alice2\")"
      ],
      "metadata": {
        "colab": {
          "base_uri": "https://localhost:8080/"
        },
        "id": "O1U_8yAt-r77",
        "outputId": "250a8334-f377-4e41-d087-948d88bd7f91"
      },
      "execution_count": 17,
      "outputs": [
        {
          "output_type": "stream",
          "name": "stdout",
          "text": [
            "Hello, Alice2. You are 33 years old.\n"
          ]
        }
      ]
    },
    {
      "cell_type": "code",
      "source": [
        "# greet(age=33, name=\"Alice2\", sung=\"male\")"
      ],
      "metadata": {
        "id": "LAN6kH-z-1TR"
      },
      "execution_count": 14,
      "outputs": []
    },
    {
      "cell_type": "code",
      "source": [
        "def example_function(a, b, c):\n",
        "    print(a, b, c)\n",
        "\n",
        "# 키워드 인수를 사용한 함수 호출\n",
        "example_function(a=1, b=2, c=3)"
      ],
      "metadata": {
        "colab": {
          "base_uri": "https://localhost:8080/"
        },
        "id": "D2LMxE_SArNh",
        "outputId": "574fc351-c6a1-4dcf-fc40-e32fee23197b"
      },
      "execution_count": 18,
      "outputs": [
        {
          "output_type": "stream",
          "name": "stdout",
          "text": [
            "1 2 3\n"
          ]
        }
      ]
    },
    {
      "cell_type": "markdown",
      "source": [
        "위의 예제에서 a=1, b=2, c=3은 모두 키워드 인수로, 함수 정의에 지정된 매개변수 이름을 사용하여 값을 할당하고 있습니다."
      ],
      "metadata": {
        "id": "0B90kaJLBm8f"
      }
    }
  ]
}