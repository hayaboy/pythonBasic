{
  "nbformat": 4,
  "nbformat_minor": 0,
  "metadata": {
    "colab": {
      "provenance": [],
      "authorship_tag": "ABX9TyOdwlS9YpqzTSOT9zkLwXKV",
      "include_colab_link": true
    },
    "kernelspec": {
      "name": "python3",
      "display_name": "Python 3"
    },
    "language_info": {
      "name": "python"
    }
  },
  "cells": [
    {
      "cell_type": "markdown",
      "metadata": {
        "id": "view-in-github",
        "colab_type": "text"
      },
      "source": [
        "<a href=\"https://colab.research.google.com/github/hayaboy/pythonBasic/blob/main/%EB%82%B4%EB%B6%80%ED%95%A8%EC%88%98_%EC%82%AC%EC%9A%A9%EC%9D%B4%EC%9C%A0_%EC%BA%A1%EC%8A%88%ED%99%94%EC%99%80%ED%81%B4%EB%A1%9C%EC%A0%80.ipynb\" target=\"_parent\"><img src=\"https://colab.research.google.com/assets/colab-badge.svg\" alt=\"Open In Colab\"/></a>"
      ]
    },
    {
      "cell_type": "code",
      "execution_count": 1,
      "metadata": {
        "id": "xnXV0YXDPWAV"
      },
      "outputs": [],
      "source": []
    },
    {
      "cell_type": "code",
      "source": [
        "def make_multiplier(factor):\n",
        "    def multiplier(number):\n",
        "        return number * factor\n",
        "    return multiplier"
      ],
      "metadata": {
        "id": "J4RE9C_2PhUe"
      },
      "execution_count": 2,
      "outputs": []
    },
    {
      "cell_type": "code",
      "source": [
        "# 예제 사용\n",
        "double = make_multiplier(2)\n",
        "triple = make_multiplier(3)\n"
      ],
      "metadata": {
        "id": "knbQ85fYRAnc"
      },
      "execution_count": 4,
      "outputs": []
    },
    {
      "cell_type": "code",
      "source": [
        "type(double)"
      ],
      "metadata": {
        "colab": {
          "base_uri": "https://localhost:8080/"
        },
        "id": "0pw9kzjLRS5r",
        "outputId": "a350e789-bd3b-4cd2-a9f9-04e0182087b9"
      },
      "execution_count": 5,
      "outputs": [
        {
          "output_type": "execute_result",
          "data": {
            "text/plain": [
              "function"
            ]
          },
          "metadata": {},
          "execution_count": 5
        }
      ]
    },
    {
      "cell_type": "code",
      "source": [
        "double(5)"
      ],
      "metadata": {
        "colab": {
          "base_uri": "https://localhost:8080/"
        },
        "id": "o5IqzzulREZi",
        "outputId": "e7e7016d-276b-403f-8e3d-76c24c940761"
      },
      "execution_count": 6,
      "outputs": [
        {
          "output_type": "execute_result",
          "data": {
            "text/plain": [
              "10"
            ]
          },
          "metadata": {},
          "execution_count": 6
        }
      ]
    },
    {
      "cell_type": "markdown",
      "source": [
        "1. 캡슐화:\n",
        "\n",
        "make_multiplier 함수 내에 정의된 multiplier 함수는 make_multiplier 함수 외부에서는 접근할 수 없습니다. 즉, multiplier 함수는 make_multiplier 함수의 내부에 캡슐화되어 있습니다. 이는 코드를 구조화하고, 외부에서 불필요한 접근을 방지하는 데 도움을 줍니다."
      ],
      "metadata": {
        "id": "qnT41BFVRg7y"
      }
    },
    {
      "cell_type": "markdown",
      "source": [
        "2. 클로저:\n",
        "\n",
        "multiplier 함수는 factor 값을 기억합니다. make_multiplier 함수가 호출될 때마다 새로운 multiplier 함수가 생성되고, 이 함수는 자신이 생성될 때 사용된 factor 값을 기억합니다. 예를 들어, double은 factor가 2일 때 생성된 multiplier 함수이고, triple은 factor가 3일 때 생성된 multiplier 함수입니다.\n",
        "이와 같이 내부 함수는 자신이 정의된 환경을 기억하여, 그 환경에 접근할 수 있는 클로저(closure)를 생성합니다.\n",
        "\n",
        "이 예제는 내부 함수 사용의 주요 이유인 캡슐화와 클로저를 쉽게 보여줍니다. 내부 함수는 특정 함수 내부의 로직을 감추고, 그 함수가 생성될 때의 환경을 기억하여 외부 함수에서의 사용을 용이하게 합니다. 이는 코드의 가독성을 높이고, 모듈화를 통해 유지보수를 쉽게 만들어 줍니다."
      ],
      "metadata": {
        "id": "At_HInDdRwqf"
      }
    },
    {
      "cell_type": "code",
      "source": [],
      "metadata": {
        "id": "J0UCoxtNRztz"
      },
      "execution_count": null,
      "outputs": []
    }
  ]
}