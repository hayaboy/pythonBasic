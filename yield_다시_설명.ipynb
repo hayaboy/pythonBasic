{
  "nbformat": 4,
  "nbformat_minor": 0,
  "metadata": {
    "colab": {
      "provenance": [],
      "authorship_tag": "ABX9TyNiZC5VhKvpcwOKfk9sjl3q",
      "include_colab_link": true
    },
    "kernelspec": {
      "name": "python3",
      "display_name": "Python 3"
    },
    "language_info": {
      "name": "python"
    }
  },
  "cells": [
    {
      "cell_type": "markdown",
      "metadata": {
        "id": "view-in-github",
        "colab_type": "text"
      },
      "source": [
        "<a href=\"https://colab.research.google.com/github/hayaboy/pythonBasic/blob/main/yield_%EB%8B%A4%EC%8B%9C_%EC%84%A4%EB%AA%85.ipynb\" target=\"_parent\"><img src=\"https://colab.research.google.com/assets/colab-badge.svg\" alt=\"Open In Colab\"/></a>"
      ]
    },
    {
      "cell_type": "code",
      "execution_count": 1,
      "metadata": {
        "id": "8exmRSmp-x4A"
      },
      "outputs": [],
      "source": [
        "def return_func(x):\n",
        "  return x\n",
        "  return \"hi\""
      ]
    },
    {
      "cell_type": "code",
      "source": [
        "return_func(5)"
      ],
      "metadata": {
        "colab": {
          "base_uri": "https://localhost:8080/"
        },
        "id": "wikO-vVE_D0O",
        "outputId": "17dbb859-f268-42ae-fefd-76317a618e27"
      },
      "execution_count": 2,
      "outputs": [
        {
          "output_type": "execute_result",
          "data": {
            "text/plain": [
              "5"
            ]
          },
          "metadata": {},
          "execution_count": 2
        }
      ]
    },
    {
      "cell_type": "code",
      "source": [
        "def gen_func(x):\n",
        "  print('입력값')\n",
        "  yield x\n",
        "\n",
        "  print('입력값 +1')\n",
        "  x += 1\n",
        "  yield x\n",
        "\n",
        "  print('입력값 +2')\n",
        "  x += 1\n",
        "  yield x"
      ],
      "metadata": {
        "id": "aHl8_F3p_IjN"
      },
      "execution_count": 3,
      "outputs": []
    },
    {
      "cell_type": "code",
      "source": [
        "for i in gen_func(1):\n",
        "  print(i)"
      ],
      "metadata": {
        "colab": {
          "base_uri": "https://localhost:8080/"
        },
        "id": "OkYT1K0c_ao0",
        "outputId": "1dfdeb5c-1ae8-40dc-e12a-9e315cd206fc"
      },
      "execution_count": 4,
      "outputs": [
        {
          "output_type": "stream",
          "name": "stdout",
          "text": [
            "입력값\n",
            "1\n",
            "입력값 +1\n",
            "2\n",
            "입력값 +2\n",
            "3\n"
          ]
        }
      ]
    },
    {
      "cell_type": "code",
      "source": [],
      "metadata": {
        "id": "6LcZmXVl_kDV"
      },
      "execution_count": null,
      "outputs": []
    }
  ]
}