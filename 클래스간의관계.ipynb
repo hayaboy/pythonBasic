{
  "nbformat": 4,
  "nbformat_minor": 0,
  "metadata": {
    "colab": {
      "provenance": [],
      "authorship_tag": "ABX9TyOWDZS9rSFY1rt7WhlBjx+X",
      "include_colab_link": true
    },
    "kernelspec": {
      "name": "python3",
      "display_name": "Python 3"
    },
    "language_info": {
      "name": "python"
    }
  },
  "cells": [
    {
      "cell_type": "markdown",
      "metadata": {
        "id": "view-in-github",
        "colab_type": "text"
      },
      "source": [
        "<a href=\"https://colab.research.google.com/github/hayaboy/pythonBasic/blob/main/%ED%81%B4%EB%9E%98%EC%8A%A4%EA%B0%84%EC%9D%98%EA%B4%80%EA%B3%84.ipynb\" target=\"_parent\"><img src=\"https://colab.research.google.com/assets/colab-badge.svg\" alt=\"Open In Colab\"/></a>"
      ]
    },
    {
      "cell_type": "markdown",
      "source": [
        "파에서 클래스 간의 사용관계, 포함관계, 상속관계를 이해하기 쉽도록 설명하는 예제를 제공하겠습니다. 각 관계를 명확히 하기 위해 간단한 객체지향 프로그래밍 예제를 사용하겠습니다.\n",
        "\n",
        "1. 사용관계 (Dependency)\n",
        "사용관계는 한 클래스가 다른 클래스의 메소드를 호출하여 사용하는 관계를 의미합니다."
      ],
      "metadata": {
        "id": "c-3l2UUOybyH"
      }
    },
    {
      "cell_type": "code",
      "source": [
        "class Printer:\n",
        "    def print_document(self, document):\n",
        "        print(f\"Printing: {document}\")\n",
        "\n",
        "class OfficeWorker:\n",
        "    def __init__(self, name):\n",
        "        self.name = name\n",
        "\n",
        "    def work(self, document, printer):\n",
        "        printer.print_document(document)\n",
        "\n",
        "# 사용 예제\n",
        "printer = Printer()\n",
        "worker = OfficeWorker(\"Alice\")\n",
        "worker.work(\"Report.pdf\", printer)"
      ],
      "metadata": {
        "colab": {
          "base_uri": "https://localhost:8080/"
        },
        "id": "s3qwm8RNylPO",
        "outputId": "1e0800e4-d8f5-4bbf-f2a0-22e3f0780da8"
      },
      "execution_count": 1,
      "outputs": [
        {
          "output_type": "stream",
          "name": "stdout",
          "text": [
            "Printing: Report.pdf\n"
          ]
        }
      ]
    },
    {
      "cell_type": "markdown",
      "source": [
        "2. 포함관계 (Composition)\n",
        "포함관계는 한 클래스가 다른 클래스를 멤버로 포함하는 관계로, 포함된 객체의 생명 주기가 포함하는 객체에 종속적입니다."
      ],
      "metadata": {
        "id": "4aBBJzFeyuNO"
      }
    },
    {
      "cell_type": "code",
      "source": [
        "class Engine:\n",
        "    def start(self):\n",
        "        print(\"Engine started\")\n",
        "\n",
        "class Car:\n",
        "    def __init__(self):\n",
        "        self.engine = Engine()\n",
        "\n",
        "    def drive(self):\n",
        "        self.engine.start()\n",
        "        print(\"Car is driving\")\n",
        "\n",
        "# 사용 예제\n",
        "my_car = Car()\n",
        "my_car.drive()"
      ],
      "metadata": {
        "colab": {
          "base_uri": "https://localhost:8080/"
        },
        "id": "VluwqK32ymDI",
        "outputId": "ddcf7da8-6e06-42a3-af59-2f43c087408e"
      },
      "execution_count": 3,
      "outputs": [
        {
          "output_type": "stream",
          "name": "stdout",
          "text": [
            "Engine started\n",
            "Car is driving\n"
          ]
        }
      ]
    },
    {
      "cell_type": "markdown",
      "source": [
        "3. 상속관계 (Inheritance)\n",
        "상속관계는 한 클래스가 다른 클래스의 특성과 행동을 상속받아 확장하는 관계입니다."
      ],
      "metadata": {
        "id": "7CQOgSAIzQfW"
      }
    },
    {
      "cell_type": "code",
      "source": [
        "class Animal:\n",
        "    def speak(self):\n",
        "        raise NotImplementedError(\"Subclasses must implement this method\")\n",
        "\n",
        "class Dog(Animal):\n",
        "    def speak(self):\n",
        "        return \"Woof!\"\n",
        "\n",
        "class Cat(Animal):\n",
        "    def speak(self):\n",
        "        return \"Meow!\"\n",
        "\n",
        "# 사용 예제\n",
        "dog = Dog()\n",
        "cat = Cat()\n",
        "print(dog.speak())  # Woof!\n",
        "print(cat.speak())  # Meow!"
      ],
      "metadata": {
        "colab": {
          "base_uri": "https://localhost:8080/"
        },
        "id": "RRRV6mUXzNn2",
        "outputId": "a7345efc-c1c6-4534-ffad-607d077bd25b"
      },
      "execution_count": 5,
      "outputs": [
        {
          "output_type": "stream",
          "name": "stdout",
          "text": [
            "Woof!\n",
            "Meow!\n"
          ]
        }
      ]
    },
    {
      "cell_type": "code",
      "source": [],
      "metadata": {
        "id": "3cnj9cJVzMZQ"
      },
      "execution_count": null,
      "outputs": []
    }
  ]
}