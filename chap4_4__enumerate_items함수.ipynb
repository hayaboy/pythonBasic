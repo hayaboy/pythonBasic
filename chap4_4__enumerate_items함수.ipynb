{
  "nbformat": 4,
  "nbformat_minor": 0,
  "metadata": {
    "colab": {
      "provenance": [],
      "authorship_tag": "ABX9TyMozgG0uzQoiwGDSPU3g9Y0",
      "include_colab_link": true
    },
    "kernelspec": {
      "name": "python3",
      "display_name": "Python 3"
    },
    "language_info": {
      "name": "python"
    }
  },
  "cells": [
    {
      "cell_type": "markdown",
      "metadata": {
        "id": "view-in-github",
        "colab_type": "text"
      },
      "source": [
        "<a href=\"https://colab.research.google.com/github/hayaboy/pythonBasic/blob/main/chap4_4__enumerate_items%ED%95%A8%EC%88%98.ipynb\" target=\"_parent\"><img src=\"https://colab.research.google.com/assets/colab-badge.svg\" alt=\"Open In Colab\"/></a>"
      ]
    },
    {
      "cell_type": "code",
      "execution_count": 3,
      "metadata": {
        "colab": {
          "base_uri": "https://localhost:8080/"
        },
        "id": "vWNNi98Pw41z",
        "outputId": "7dc063b2-5ed5-4ae8-ff56-6c3e7ce34313"
      },
      "outputs": [
        {
          "output_type": "stream",
          "name": "stdout",
          "text": [
            "0 a\n",
            "1 b\n"
          ]
        }
      ],
      "source": [
        "for index, value in enumerate(['a','b']):\n",
        "  print(index, value)"
      ]
    },
    {
      "cell_type": "code",
      "source": [
        "\"{:x}\".format(10)"
      ],
      "metadata": {
        "colab": {
          "base_uri": "https://localhost:8080/",
          "height": 35
        },
        "id": "IZfLKoX9zGMo",
        "outputId": "92ec0263-0514-4b0d-adc0-b251f29f5b10"
      },
      "execution_count": 6,
      "outputs": [
        {
          "output_type": "execute_result",
          "data": {
            "text/plain": [
              "'a'"
            ],
            "application/vnd.google.colaboratory.intrinsic+json": {
              "type": "string"
            }
          },
          "metadata": {},
          "execution_count": 6
        }
      ]
    },
    {
      "cell_type": "code",
      "source": [
        "\"{:o}\".format(10)"
      ],
      "metadata": {
        "colab": {
          "base_uri": "https://localhost:8080/",
          "height": 35
        },
        "id": "JuECepmhzDy3",
        "outputId": "44ed786a-2df0-4889-da88-b373285dc114"
      },
      "execution_count": 5,
      "outputs": [
        {
          "output_type": "execute_result",
          "data": {
            "text/plain": [
              "'12'"
            ],
            "application/vnd.google.colaboratory.intrinsic+json": {
              "type": "string"
            }
          },
          "metadata": {},
          "execution_count": 5
        }
      ]
    },
    {
      "cell_type": "code",
      "source": [
        "\"{:b}\".format(10)"
      ],
      "metadata": {
        "colab": {
          "base_uri": "https://localhost:8080/",
          "height": 35
        },
        "id": "msAMPu1Ny7Jo",
        "outputId": "a20a7309-1776-4b91-edec-364f3b3fd4fc"
      },
      "execution_count": 4,
      "outputs": [
        {
          "output_type": "execute_result",
          "data": {
            "text/plain": [
              "'1010'"
            ],
            "application/vnd.google.colaboratory.intrinsic+json": {
              "type": "string"
            }
          },
          "metadata": {},
          "execution_count": 4
        }
      ]
    },
    {
      "cell_type": "code",
      "source": [
        "\"{:b}\".format(10).count('0')"
      ],
      "metadata": {
        "colab": {
          "base_uri": "https://localhost:8080/"
        },
        "id": "2iwrfQLLzz0o",
        "outputId": "d53ba410-b13d-4b3d-a726-cea3736fdc23"
      },
      "execution_count": 15,
      "outputs": [
        {
          "output_type": "execute_result",
          "data": {
            "text/plain": [
              "2"
            ]
          },
          "metadata": {},
          "execution_count": 15
        }
      ]
    },
    {
      "cell_type": "code",
      "source": [
        "\"{:b}\".format(3).count(\"0\")"
      ],
      "metadata": {
        "colab": {
          "base_uri": "https://localhost:8080/"
        },
        "id": "cmKYyxqiztd1",
        "outputId": "6b2de85a-abe0-41ca-d40f-8c2e5b4d1f62"
      },
      "execution_count": 14,
      "outputs": [
        {
          "output_type": "execute_result",
          "data": {
            "text/plain": [
              "0"
            ]
          },
          "metadata": {},
          "execution_count": 14
        }
      ]
    },
    {
      "cell_type": "code",
      "source": [
        "\"{:b}\".format(1).count(\"0\") == 1"
      ],
      "metadata": {
        "id": "bOkR8KGozrc3"
      },
      "execution_count": null,
      "outputs": []
    },
    {
      "cell_type": "code",
      "source": [
        "\"{:b}\".format(2).count(\"0\") == 1"
      ],
      "metadata": {
        "colab": {
          "base_uri": "https://localhost:8080/"
        },
        "id": "iDUBXZcUzj3n",
        "outputId": "af903c58-d184-4aac-f213-f286037b3a09"
      },
      "execution_count": 11,
      "outputs": [
        {
          "output_type": "execute_result",
          "data": {
            "text/plain": [
              "True"
            ]
          },
          "metadata": {},
          "execution_count": 11
        }
      ]
    },
    {
      "cell_type": "code",
      "source": [
        "# 2진수로 변환시 0이 하나만 포함된 숫자를 찾고, 그 숫자들의 합을 구하는 코드"
      ],
      "metadata": {
        "id": "NcylLvj60J0H"
      },
      "execution_count": 16,
      "outputs": []
    },
    {
      "cell_type": "code",
      "source": [
        "output = [i for i in range(1, 100 + 1) if \"{:b}\".format(i).count(\"0\") == 1]"
      ],
      "metadata": {
        "id": "6lreS0ZixKqF"
      },
      "execution_count": 7,
      "outputs": []
    },
    {
      "cell_type": "code",
      "source": [
        "output"
      ],
      "metadata": {
        "colab": {
          "base_uri": "https://localhost:8080/"
        },
        "id": "tHCOuGLvzX1X",
        "outputId": "f4f40bc2-c525-499c-e814-1c3ee04cc822"
      },
      "execution_count": 9,
      "outputs": [
        {
          "output_type": "execute_result",
          "data": {
            "text/plain": [
              "[2, 5, 6, 11, 13, 14, 23, 27, 29, 30, 47, 55, 59, 61, 62, 95]"
            ]
          },
          "metadata": {},
          "execution_count": 9
        }
      ]
    },
    {
      "cell_type": "code",
      "source": [
        "for i in output:\n",
        "  print(\"{} : {}\".format(i, \"{:b}\".format(i)))\n",
        "print(\"합계:\", sum(output))"
      ],
      "metadata": {
        "colab": {
          "base_uri": "https://localhost:8080/"
        },
        "id": "p1GVEgQizMWh",
        "outputId": "e8d95a80-cacc-41dd-ef94-1f5e46a9b376"
      },
      "execution_count": 8,
      "outputs": [
        {
          "output_type": "stream",
          "name": "stdout",
          "text": [
            "2 : 10\n",
            "5 : 101\n",
            "6 : 110\n",
            "11 : 1011\n",
            "13 : 1101\n",
            "14 : 1110\n",
            "23 : 10111\n",
            "27 : 11011\n",
            "29 : 11101\n",
            "30 : 11110\n",
            "47 : 101111\n",
            "55 : 110111\n",
            "59 : 111011\n",
            "61 : 111101\n",
            "62 : 111110\n",
            "95 : 1011111\n",
            "합계: 539\n"
          ]
        }
      ]
    },
    {
      "cell_type": "code",
      "source": [],
      "metadata": {
        "id": "RnGYpCmGzRy3"
      },
      "execution_count": null,
      "outputs": []
    }
  ]
}