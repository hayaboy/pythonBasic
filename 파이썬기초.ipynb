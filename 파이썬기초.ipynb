{
  "cells": [
    {
      "cell_type": "markdown",
      "metadata": {
        "id": "view-in-github",
        "colab_type": "text"
      },
      "source": [
        "<a href=\"https://colab.research.google.com/github/hayaboy/pythonBasic/blob/main/%ED%8C%8C%EC%9D%B4%EC%8D%AC%EA%B8%B0%EC%B4%88.ipynb\" target=\"_parent\"><img src=\"https://colab.research.google.com/assets/colab-badge.svg\" alt=\"Open In Colab\"/></a>"
      ]
    },
    {
      "cell_type": "code",
      "execution_count": null,
      "id": "0304d79d",
      "metadata": {
        "id": "0304d79d"
      },
      "outputs": [],
      "source": [
        "str1=\"hi\""
      ]
    },
    {
      "cell_type": "code",
      "execution_count": null,
      "id": "50bdf039",
      "metadata": {
        "id": "50bdf039",
        "outputId": "d65117bc-cf59-4c8f-8a0c-08a901848501"
      },
      "outputs": [
        {
          "name": "stdout",
          "output_type": "stream",
          "text": [
            "hi\n"
          ]
        }
      ],
      "source": [
        "print(str1)"
      ]
    },
    {
      "cell_type": "code",
      "execution_count": null,
      "id": "3cc808d4",
      "metadata": {
        "id": "3cc808d4",
        "outputId": "d13a815d-9412-4470-f0df-2c4d302320cc"
      },
      "outputs": [
        {
          "data": {
            "text/plain": [
              "str"
            ]
          },
          "execution_count": 5,
          "metadata": {},
          "output_type": "execute_result"
        }
      ],
      "source": [
        "type(str1)"
      ]
    },
    {
      "cell_type": "code",
      "execution_count": null,
      "id": "a6252440",
      "metadata": {
        "id": "a6252440"
      },
      "outputs": [],
      "source": [
        "num1=5"
      ]
    },
    {
      "cell_type": "code",
      "execution_count": null,
      "id": "f4817b14",
      "metadata": {
        "id": "f4817b14",
        "outputId": "b4cfd24f-a000-4487-8459-c189e45f6d90"
      },
      "outputs": [
        {
          "data": {
            "text/plain": [
              "int"
            ]
          },
          "execution_count": 7,
          "metadata": {},
          "output_type": "execute_result"
        }
      ],
      "source": [
        "type(num1)"
      ]
    },
    {
      "cell_type": "code",
      "execution_count": null,
      "id": "c370d42b",
      "metadata": {
        "id": "c370d42b",
        "outputId": "bc232043-c1fe-4168-856b-089e31ce97fb"
      },
      "outputs": [
        {
          "data": {
            "text/plain": [
              "140724152472488"
            ]
          },
          "execution_count": 10,
          "metadata": {},
          "output_type": "execute_result"
        }
      ],
      "source": [
        "id(num1)"
      ]
    },
    {
      "cell_type": "code",
      "execution_count": null,
      "id": "48895ee2",
      "metadata": {
        "id": "48895ee2"
      },
      "outputs": [],
      "source": [
        "num1=str(num1)"
      ]
    },
    {
      "cell_type": "code",
      "execution_count": null,
      "id": "427e8171",
      "metadata": {
        "id": "427e8171",
        "outputId": "4692d623-1eae-418a-9c96-1065d7f2e95f"
      },
      "outputs": [
        {
          "data": {
            "text/plain": [
              "1401350355760"
            ]
          },
          "execution_count": 14,
          "metadata": {},
          "output_type": "execute_result"
        }
      ],
      "source": [
        "id(num1)"
      ]
    },
    {
      "cell_type": "code",
      "execution_count": null,
      "id": "17a52d47",
      "metadata": {
        "id": "17a52d47",
        "outputId": "3d31803a-a6b2-4291-de73-091fd0b2d532"
      },
      "outputs": [
        {
          "data": {
            "text/plain": [
              "str"
            ]
          },
          "execution_count": 15,
          "metadata": {},
          "output_type": "execute_result"
        }
      ],
      "source": [
        "type(num1)"
      ]
    },
    {
      "cell_type": "code",
      "execution_count": null,
      "id": "5ff81672",
      "metadata": {
        "id": "5ff81672"
      },
      "outputs": [],
      "source": [
        "# 배열 numpy.arr\n",
        "# 리스트 list"
      ]
    },
    {
      "cell_type": "code",
      "execution_count": null,
      "id": "2a943e5c",
      "metadata": {
        "id": "2a943e5c"
      },
      "outputs": [],
      "source": [
        "li1=['hi',4]"
      ]
    },
    {
      "cell_type": "code",
      "execution_count": null,
      "id": "3e319970",
      "metadata": {
        "id": "3e319970",
        "outputId": "cd231614-ed73-4025-c627-c30b28268a6a"
      },
      "outputs": [
        {
          "data": {
            "text/plain": [
              "list"
            ]
          },
          "execution_count": 21,
          "metadata": {},
          "output_type": "execute_result"
        }
      ],
      "source": [
        "type(li1)"
      ]
    },
    {
      "cell_type": "code",
      "execution_count": null,
      "id": "a5ab90a5",
      "metadata": {
        "id": "a5ab90a5"
      },
      "outputs": [],
      "source": [
        "import numpy"
      ]
    },
    {
      "cell_type": "code",
      "execution_count": null,
      "id": "896ab8ea",
      "metadata": {
        "id": "896ab8ea"
      },
      "outputs": [],
      "source": [
        "import numpy as np"
      ]
    },
    {
      "cell_type": "code",
      "execution_count": null,
      "id": "fceb8733",
      "metadata": {
        "id": "fceb8733",
        "outputId": "ff5c37b8-f436-40a4-9ba9-614e0ee47f89"
      },
      "outputs": [
        {
          "data": {
            "text/plain": [
              "array(['hi', '4'], dtype='<U11')"
            ]
          },
          "execution_count": 22,
          "metadata": {},
          "output_type": "execute_result"
        }
      ],
      "source": [
        "np.array(li1)"
      ]
    },
    {
      "cell_type": "code",
      "execution_count": null,
      "id": "dcdd9bd5",
      "metadata": {
        "id": "dcdd9bd5"
      },
      "outputs": [],
      "source": [
        "arr1=np.array(li1)"
      ]
    },
    {
      "cell_type": "code",
      "execution_count": null,
      "id": "6f841d2c",
      "metadata": {
        "id": "6f841d2c",
        "outputId": "c6912ec6-d2be-4bad-9b9f-7eb4d1296471"
      },
      "outputs": [
        {
          "data": {
            "text/plain": [
              "numpy.ndarray"
            ]
          },
          "execution_count": 24,
          "metadata": {},
          "output_type": "execute_result"
        }
      ],
      "source": [
        "type(arr1)"
      ]
    },
    {
      "cell_type": "code",
      "execution_count": null,
      "id": "23ff8b05",
      "metadata": {
        "id": "23ff8b05"
      },
      "outputs": [],
      "source": [
        "# help(set)"
      ]
    },
    {
      "cell_type": "code",
      "execution_count": null,
      "id": "3aef0d95",
      "metadata": {
        "id": "3aef0d95",
        "outputId": "952f5ed6-98b4-4dd4-a976-d99c2fbaea67"
      },
      "outputs": [
        {
          "data": {
            "text/plain": [
              "{1, 3}"
            ]
          },
          "execution_count": 26,
          "metadata": {},
          "output_type": "execute_result"
        }
      ],
      "source": [
        "set([1,1,3])"
      ]
    },
    {
      "cell_type": "code",
      "execution_count": null,
      "id": "797c1199",
      "metadata": {
        "id": "797c1199"
      },
      "outputs": [],
      "source": [
        "# help(dict)"
      ]
    },
    {
      "cell_type": "code",
      "execution_count": null,
      "id": "289fc143",
      "metadata": {
        "id": "289fc143"
      },
      "outputs": [],
      "source": [
        "dict1={'a':'apple'}"
      ]
    },
    {
      "cell_type": "code",
      "execution_count": null,
      "id": "183090dd",
      "metadata": {
        "id": "183090dd",
        "outputId": "7b7cab6a-74d5-42b4-8dc4-cc79b6e4ef68"
      },
      "outputs": [
        {
          "data": {
            "text/plain": [
              "dict"
            ]
          },
          "execution_count": 33,
          "metadata": {},
          "output_type": "execute_result"
        }
      ],
      "source": [
        "type(dict1)"
      ]
    },
    {
      "cell_type": "code",
      "execution_count": null,
      "id": "9e6a8e0d",
      "metadata": {
        "id": "9e6a8e0d",
        "outputId": "6c848a4b-e9a9-4ab2-dba4-ff18d9e21bab"
      },
      "outputs": [
        {
          "data": {
            "text/plain": [
              "'apple'"
            ]
          },
          "execution_count": 34,
          "metadata": {},
          "output_type": "execute_result"
        }
      ],
      "source": [
        "dict1['a']"
      ]
    },
    {
      "cell_type": "code",
      "execution_count": null,
      "id": "eb223940",
      "metadata": {
        "id": "eb223940"
      },
      "outputs": [],
      "source": [
        "dict1={'a':'apple', 'b':'banana'}"
      ]
    },
    {
      "cell_type": "code",
      "execution_count": null,
      "id": "af40a75a",
      "metadata": {
        "id": "af40a75a",
        "outputId": "72d7ff95-301c-4a6d-df3b-8cafcb03b835"
      },
      "outputs": [
        {
          "data": {
            "text/plain": [
              "'banana'"
            ]
          },
          "execution_count": 37,
          "metadata": {},
          "output_type": "execute_result"
        }
      ],
      "source": [
        "dict1['b']"
      ]
    },
    {
      "cell_type": "code",
      "execution_count": null,
      "id": "3308c1fc",
      "metadata": {
        "id": "3308c1fc"
      },
      "outputs": [],
      "source": [
        "# list"
      ]
    },
    {
      "cell_type": "code",
      "execution_count": null,
      "id": "7b96707c",
      "metadata": {
        "id": "7b96707c"
      },
      "outputs": [],
      "source": [
        "li=[1,\"hi\",True]"
      ]
    },
    {
      "cell_type": "code",
      "execution_count": null,
      "id": "6556ab3b",
      "metadata": {
        "id": "6556ab3b",
        "outputId": "3340f3bc-6623-43f4-c0d6-f41ce1929c1e"
      },
      "outputs": [
        {
          "data": {
            "text/plain": [
              "1"
            ]
          },
          "execution_count": 40,
          "metadata": {},
          "output_type": "execute_result"
        }
      ],
      "source": [
        "li[0]"
      ]
    },
    {
      "cell_type": "code",
      "execution_count": null,
      "id": "34c5c3cd",
      "metadata": {
        "id": "34c5c3cd",
        "outputId": "e09c3b47-1ee3-435f-a402-020498854405"
      },
      "outputs": [
        {
          "data": {
            "text/plain": [
              "int"
            ]
          },
          "execution_count": 41,
          "metadata": {},
          "output_type": "execute_result"
        }
      ],
      "source": [
        "type(li[0])"
      ]
    },
    {
      "cell_type": "code",
      "execution_count": null,
      "id": "605e3e65",
      "metadata": {
        "id": "605e3e65",
        "outputId": "1ddeda10-f717-4456-cb70-c36d264bf2ad"
      },
      "outputs": [
        {
          "data": {
            "text/plain": [
              "str"
            ]
          },
          "execution_count": 42,
          "metadata": {},
          "output_type": "execute_result"
        }
      ],
      "source": [
        "type(li[1])"
      ]
    },
    {
      "cell_type": "code",
      "execution_count": null,
      "id": "a6dff353",
      "metadata": {
        "id": "a6dff353",
        "outputId": "aaa1b2b2-0c8d-4c19-a4f9-089262e9d7af"
      },
      "outputs": [
        {
          "data": {
            "text/plain": [
              "bool"
            ]
          },
          "execution_count": 43,
          "metadata": {},
          "output_type": "execute_result"
        }
      ],
      "source": [
        "type(li[2])"
      ]
    },
    {
      "cell_type": "code",
      "execution_count": null,
      "id": "d16d8c9d",
      "metadata": {
        "id": "d16d8c9d"
      },
      "outputs": [],
      "source": [
        "li[0]=2"
      ]
    },
    {
      "cell_type": "code",
      "execution_count": null,
      "id": "d94fb65f",
      "metadata": {
        "id": "d94fb65f",
        "outputId": "19f79f1f-ccb7-45e5-d17d-4ca79805417c"
      },
      "outputs": [
        {
          "data": {
            "text/plain": [
              "[2, 'hi', True]"
            ]
          },
          "execution_count": 45,
          "metadata": {},
          "output_type": "execute_result"
        }
      ],
      "source": [
        "li"
      ]
    },
    {
      "cell_type": "code",
      "execution_count": null,
      "id": "a7c69ae1",
      "metadata": {
        "id": "a7c69ae1"
      },
      "outputs": [],
      "source": [
        "# 값을 바꾸고 싶지 않을경우 tuple  ( )"
      ]
    },
    {
      "cell_type": "code",
      "execution_count": null,
      "id": "504c3892",
      "metadata": {
        "id": "504c3892"
      },
      "outputs": [],
      "source": [
        "tu1=(1,\"hi\",True)"
      ]
    },
    {
      "cell_type": "code",
      "execution_count": null,
      "id": "d531ac4f",
      "metadata": {
        "id": "d531ac4f",
        "outputId": "980bd3eb-97bb-467c-e2a3-39d36a17ecdf"
      },
      "outputs": [
        {
          "data": {
            "text/plain": [
              "tuple"
            ]
          },
          "execution_count": 48,
          "metadata": {},
          "output_type": "execute_result"
        }
      ],
      "source": [
        "type(tu1)"
      ]
    },
    {
      "cell_type": "code",
      "execution_count": null,
      "id": "716d5d2c",
      "metadata": {
        "id": "716d5d2c",
        "outputId": "8a75e13e-ffcf-4276-994a-543ea08aad07"
      },
      "outputs": [
        {
          "data": {
            "text/plain": [
              "1"
            ]
          },
          "execution_count": 50,
          "metadata": {},
          "output_type": "execute_result"
        }
      ],
      "source": [
        "tu1[0]"
      ]
    },
    {
      "cell_type": "code",
      "execution_count": null,
      "id": "e01874e0",
      "metadata": {
        "id": "e01874e0",
        "outputId": "cde19a4f-456f-47d7-da12-2749a8105942"
      },
      "outputs": [
        {
          "ename": "TypeError",
          "evalue": "'tuple' object does not support item assignment",
          "output_type": "error",
          "traceback": [
            "\u001b[1;31m-----------------------------------------------------------------------\u001b[0m",
            "\u001b[1;31mTypeError\u001b[0m                             Traceback (most recent call last)",
            "Cell \u001b[1;32mIn[51], line 1\u001b[0m\n\u001b[1;32m----> 1\u001b[0m tu1[\u001b[38;5;241m0\u001b[39m]\u001b[38;5;241m=\u001b[39m\u001b[38;5;241m2\u001b[39m\n",
            "\u001b[1;31mTypeError\u001b[0m: 'tuple' object does not support item assignment"
          ]
        }
      ],
      "source": [
        "tu1[0]=2"
      ]
    },
    {
      "cell_type": "code",
      "execution_count": null,
      "id": "b95bfe89",
      "metadata": {
        "id": "b95bfe89"
      },
      "outputs": [],
      "source": []
    }
  ],
  "metadata": {
    "kernelspec": {
      "display_name": "Python 3 (ipykernel)",
      "language": "python",
      "name": "python3"
    },
    "language_info": {
      "codemirror_mode": {
        "name": "ipython",
        "version": 3
      },
      "file_extension": ".py",
      "mimetype": "text/x-python",
      "name": "python",
      "nbconvert_exporter": "python",
      "pygments_lexer": "ipython3",
      "version": "3.11.5"
    },
    "colab": {
      "provenance": [],
      "include_colab_link": true
    }
  },
  "nbformat": 4,
  "nbformat_minor": 5
}