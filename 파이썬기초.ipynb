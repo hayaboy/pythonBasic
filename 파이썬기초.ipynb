{
  "cells": [
    {
      "cell_type": "markdown",
      "metadata": {
        "id": "view-in-github",
        "colab_type": "text"
      },
      "source": [
        "<a href=\"https://colab.research.google.com/github/hayaboy/pythonBasic/blob/main/%ED%8C%8C%EC%9D%B4%EC%8D%AC%EA%B8%B0%EC%B4%88.ipynb\" target=\"_parent\"><img src=\"https://colab.research.google.com/assets/colab-badge.svg\" alt=\"Open In Colab\"/></a>"
      ]
    },
    {
      "cell_type": "code",
      "execution_count": null,
      "id": "0304d79d",
      "metadata": {
        "id": "0304d79d"
      },
      "outputs": [],
      "source": [
        "str1=\"hi\""
      ]
    },
    {
      "cell_type": "code",
      "execution_count": null,
      "id": "50bdf039",
      "metadata": {
        "id": "50bdf039",
        "outputId": "391c027d-8878-46c6-f2f6-c90beb166333"
      },
      "outputs": [
        {
          "name": "stdout",
          "output_type": "stream",
          "text": [
            "hi\n"
          ]
        }
      ],
      "source": [
        "print(str1)"
      ]
    },
    {
      "cell_type": "code",
      "execution_count": null,
      "id": "3cc808d4",
      "metadata": {
        "id": "3cc808d4",
        "outputId": "0cca442b-9299-4336-9198-460bd8321532"
      },
      "outputs": [
        {
          "data": {
            "text/plain": [
              "str"
            ]
          },
          "execution_count": 5,
          "metadata": {},
          "output_type": "execute_result"
        }
      ],
      "source": [
        "type(str1)"
      ]
    },
    {
      "cell_type": "code",
      "execution_count": null,
      "id": "a6252440",
      "metadata": {
        "id": "a6252440"
      },
      "outputs": [],
      "source": [
        "num1=5"
      ]
    },
    {
      "cell_type": "code",
      "execution_count": null,
      "id": "f4817b14",
      "metadata": {
        "id": "f4817b14",
        "outputId": "1624a3f4-d45a-4541-9a57-8ff1980226ea"
      },
      "outputs": [
        {
          "data": {
            "text/plain": [
              "int"
            ]
          },
          "execution_count": 7,
          "metadata": {},
          "output_type": "execute_result"
        }
      ],
      "source": [
        "type(num1)"
      ]
    },
    {
      "cell_type": "code",
      "execution_count": null,
      "id": "c370d42b",
      "metadata": {
        "id": "c370d42b",
        "outputId": "83dabe7e-56a9-417f-f697-a5e7f039af79"
      },
      "outputs": [
        {
          "data": {
            "text/plain": [
              "140724152472488"
            ]
          },
          "execution_count": 10,
          "metadata": {},
          "output_type": "execute_result"
        }
      ],
      "source": [
        "id(num1)"
      ]
    },
    {
      "cell_type": "code",
      "execution_count": null,
      "id": "48895ee2",
      "metadata": {
        "id": "48895ee2"
      },
      "outputs": [],
      "source": [
        "num1=str(num1)"
      ]
    },
    {
      "cell_type": "code",
      "execution_count": null,
      "id": "427e8171",
      "metadata": {
        "id": "427e8171",
        "outputId": "969d6117-4d72-4915-d1df-f9974caa4148"
      },
      "outputs": [
        {
          "data": {
            "text/plain": [
              "1401350355760"
            ]
          },
          "execution_count": 14,
          "metadata": {},
          "output_type": "execute_result"
        }
      ],
      "source": [
        "id(num1)"
      ]
    },
    {
      "cell_type": "code",
      "execution_count": null,
      "id": "17a52d47",
      "metadata": {
        "id": "17a52d47",
        "outputId": "273c9de7-bf13-42dd-9f8c-d001a4b36ef5"
      },
      "outputs": [
        {
          "data": {
            "text/plain": [
              "str"
            ]
          },
          "execution_count": 15,
          "metadata": {},
          "output_type": "execute_result"
        }
      ],
      "source": [
        "type(num1)"
      ]
    },
    {
      "cell_type": "code",
      "execution_count": null,
      "id": "5ff81672",
      "metadata": {
        "id": "5ff81672"
      },
      "outputs": [],
      "source": [
        "# 배열 numpy.arr\n",
        "# 리스트 list"
      ]
    },
    {
      "cell_type": "code",
      "execution_count": null,
      "id": "2a943e5c",
      "metadata": {
        "id": "2a943e5c"
      },
      "outputs": [],
      "source": [
        "li1=['hi',4]"
      ]
    },
    {
      "cell_type": "code",
      "execution_count": null,
      "id": "3e319970",
      "metadata": {
        "id": "3e319970",
        "outputId": "a03f81bf-2393-4115-8dfb-a73b69e465d3"
      },
      "outputs": [
        {
          "data": {
            "text/plain": [
              "list"
            ]
          },
          "execution_count": 21,
          "metadata": {},
          "output_type": "execute_result"
        }
      ],
      "source": [
        "type(li1)"
      ]
    },
    {
      "cell_type": "code",
      "execution_count": null,
      "id": "a5ab90a5",
      "metadata": {
        "id": "a5ab90a5"
      },
      "outputs": [],
      "source": [
        "import numpy"
      ]
    },
    {
      "cell_type": "code",
      "execution_count": null,
      "id": "896ab8ea",
      "metadata": {
        "id": "896ab8ea"
      },
      "outputs": [],
      "source": [
        "import numpy as np"
      ]
    },
    {
      "cell_type": "code",
      "execution_count": null,
      "id": "fceb8733",
      "metadata": {
        "id": "fceb8733",
        "outputId": "b3267fc4-0f17-452f-8eb3-6536034c6dc8"
      },
      "outputs": [
        {
          "data": {
            "text/plain": [
              "array(['hi', '4'], dtype='<U11')"
            ]
          },
          "execution_count": 22,
          "metadata": {},
          "output_type": "execute_result"
        }
      ],
      "source": [
        "np.array(li1)"
      ]
    },
    {
      "cell_type": "code",
      "execution_count": null,
      "id": "dcdd9bd5",
      "metadata": {
        "id": "dcdd9bd5"
      },
      "outputs": [],
      "source": [
        "arr1=np.array(li1)"
      ]
    },
    {
      "cell_type": "code",
      "execution_count": null,
      "id": "6f841d2c",
      "metadata": {
        "id": "6f841d2c",
        "outputId": "776a5623-6cff-4113-c2a6-a946d7ddadc4"
      },
      "outputs": [
        {
          "data": {
            "text/plain": [
              "numpy.ndarray"
            ]
          },
          "execution_count": 24,
          "metadata": {},
          "output_type": "execute_result"
        }
      ],
      "source": [
        "type(arr1)"
      ]
    },
    {
      "cell_type": "code",
      "execution_count": null,
      "id": "23ff8b05",
      "metadata": {
        "id": "23ff8b05"
      },
      "outputs": [],
      "source": [
        "# help(set)"
      ]
    },
    {
      "cell_type": "code",
      "execution_count": null,
      "id": "3aef0d95",
      "metadata": {
        "id": "3aef0d95",
        "outputId": "68dc4e3b-3011-4d15-fa56-aa3d876c2ff8"
      },
      "outputs": [
        {
          "data": {
            "text/plain": [
              "{1, 3}"
            ]
          },
          "execution_count": 26,
          "metadata": {},
          "output_type": "execute_result"
        }
      ],
      "source": [
        "set([1,1,3])"
      ]
    },
    {
      "cell_type": "code",
      "execution_count": null,
      "id": "797c1199",
      "metadata": {
        "id": "797c1199"
      },
      "outputs": [],
      "source": [
        "# help(dict)"
      ]
    },
    {
      "cell_type": "code",
      "execution_count": null,
      "id": "289fc143",
      "metadata": {
        "id": "289fc143"
      },
      "outputs": [],
      "source": [
        "dict1={'a':'apple'}"
      ]
    },
    {
      "cell_type": "code",
      "execution_count": null,
      "id": "183090dd",
      "metadata": {
        "id": "183090dd",
        "outputId": "7b5f2268-875d-4f07-a5fb-d462b3174a9a"
      },
      "outputs": [
        {
          "data": {
            "text/plain": [
              "dict"
            ]
          },
          "execution_count": 33,
          "metadata": {},
          "output_type": "execute_result"
        }
      ],
      "source": [
        "type(dict1)"
      ]
    },
    {
      "cell_type": "code",
      "execution_count": null,
      "id": "9e6a8e0d",
      "metadata": {
        "id": "9e6a8e0d",
        "outputId": "75102e35-0db3-42fa-dd9d-8a1841f2a228"
      },
      "outputs": [
        {
          "data": {
            "text/plain": [
              "'apple'"
            ]
          },
          "execution_count": 34,
          "metadata": {},
          "output_type": "execute_result"
        }
      ],
      "source": [
        "dict1['a']"
      ]
    },
    {
      "cell_type": "code",
      "execution_count": null,
      "id": "eb223940",
      "metadata": {
        "id": "eb223940"
      },
      "outputs": [],
      "source": [
        "dict1={'a':'apple', 'b':'banana'}"
      ]
    },
    {
      "cell_type": "code",
      "execution_count": null,
      "id": "af40a75a",
      "metadata": {
        "id": "af40a75a",
        "outputId": "47dac990-70fd-4929-84eb-2c7862651e65"
      },
      "outputs": [
        {
          "data": {
            "text/plain": [
              "'banana'"
            ]
          },
          "execution_count": 37,
          "metadata": {},
          "output_type": "execute_result"
        }
      ],
      "source": [
        "dict1['b']"
      ]
    },
    {
      "cell_type": "code",
      "execution_count": null,
      "id": "3308c1fc",
      "metadata": {
        "id": "3308c1fc"
      },
      "outputs": [],
      "source": [
        "# list"
      ]
    },
    {
      "cell_type": "code",
      "execution_count": null,
      "id": "7b96707c",
      "metadata": {
        "id": "7b96707c"
      },
      "outputs": [],
      "source": [
        "li=[1,\"hi\",True]"
      ]
    },
    {
      "cell_type": "code",
      "execution_count": null,
      "id": "6556ab3b",
      "metadata": {
        "id": "6556ab3b",
        "outputId": "ffd02966-7209-46e3-de89-b65f73b6209f"
      },
      "outputs": [
        {
          "data": {
            "text/plain": [
              "1"
            ]
          },
          "execution_count": 40,
          "metadata": {},
          "output_type": "execute_result"
        }
      ],
      "source": [
        "li[0]"
      ]
    },
    {
      "cell_type": "code",
      "execution_count": null,
      "id": "34c5c3cd",
      "metadata": {
        "id": "34c5c3cd",
        "outputId": "4a004ff5-7aaa-4756-863a-555c53ffea3b"
      },
      "outputs": [
        {
          "data": {
            "text/plain": [
              "int"
            ]
          },
          "execution_count": 41,
          "metadata": {},
          "output_type": "execute_result"
        }
      ],
      "source": [
        "type(li[0])"
      ]
    },
    {
      "cell_type": "code",
      "execution_count": null,
      "id": "605e3e65",
      "metadata": {
        "id": "605e3e65",
        "outputId": "eb9ad397-411c-4bb2-e05e-b66a6d1a8041"
      },
      "outputs": [
        {
          "data": {
            "text/plain": [
              "str"
            ]
          },
          "execution_count": 42,
          "metadata": {},
          "output_type": "execute_result"
        }
      ],
      "source": [
        "type(li[1])"
      ]
    },
    {
      "cell_type": "code",
      "execution_count": null,
      "id": "a6dff353",
      "metadata": {
        "id": "a6dff353",
        "outputId": "4d72cd14-33dd-46fc-f172-206dd99431c0"
      },
      "outputs": [
        {
          "data": {
            "text/plain": [
              "bool"
            ]
          },
          "execution_count": 43,
          "metadata": {},
          "output_type": "execute_result"
        }
      ],
      "source": [
        "type(li[2])"
      ]
    },
    {
      "cell_type": "code",
      "execution_count": null,
      "id": "d16d8c9d",
      "metadata": {
        "id": "d16d8c9d"
      },
      "outputs": [],
      "source": [
        "li[0]=2"
      ]
    },
    {
      "cell_type": "code",
      "execution_count": null,
      "id": "d94fb65f",
      "metadata": {
        "id": "d94fb65f",
        "outputId": "3bbdb1c8-0b8e-4d78-8c95-fa62f57fb3f0"
      },
      "outputs": [
        {
          "data": {
            "text/plain": [
              "[2, 'hi', True]"
            ]
          },
          "execution_count": 45,
          "metadata": {},
          "output_type": "execute_result"
        }
      ],
      "source": [
        "li"
      ]
    },
    {
      "cell_type": "code",
      "execution_count": null,
      "id": "a7c69ae1",
      "metadata": {
        "id": "a7c69ae1"
      },
      "outputs": [],
      "source": [
        "# 값을 바꾸고 싶지 않을경우 tuple  ( )"
      ]
    },
    {
      "cell_type": "code",
      "execution_count": null,
      "id": "504c3892",
      "metadata": {
        "id": "504c3892"
      },
      "outputs": [],
      "source": [
        "tu1=(1,\"hi\",True)"
      ]
    },
    {
      "cell_type": "code",
      "execution_count": null,
      "id": "d531ac4f",
      "metadata": {
        "id": "d531ac4f",
        "outputId": "27c2b218-0fa3-45f2-81d1-cefeb0935582"
      },
      "outputs": [
        {
          "data": {
            "text/plain": [
              "tuple"
            ]
          },
          "execution_count": 48,
          "metadata": {},
          "output_type": "execute_result"
        }
      ],
      "source": [
        "type(tu1)"
      ]
    },
    {
      "cell_type": "code",
      "execution_count": null,
      "id": "716d5d2c",
      "metadata": {
        "id": "716d5d2c",
        "outputId": "d89751ab-ba7e-400d-f617-887124746641"
      },
      "outputs": [
        {
          "data": {
            "text/plain": [
              "1"
            ]
          },
          "execution_count": 50,
          "metadata": {},
          "output_type": "execute_result"
        }
      ],
      "source": [
        "tu1[0]"
      ]
    },
    {
      "cell_type": "code",
      "execution_count": null,
      "id": "e01874e0",
      "metadata": {
        "id": "e01874e0",
        "outputId": "37a73768-b97b-4cc8-ba4c-297ccfa2149f"
      },
      "outputs": [
        {
          "ename": "TypeError",
          "evalue": "'tuple' object does not support item assignment",
          "output_type": "error",
          "traceback": [
            "\u001b[1;31m-----------------------------------------------------------------------\u001b[0m",
            "\u001b[1;31mTypeError\u001b[0m                             Traceback (most recent call last)",
            "Cell \u001b[1;32mIn[51], line 1\u001b[0m\n\u001b[1;32m----> 1\u001b[0m tu1[\u001b[38;5;241m0\u001b[39m]\u001b[38;5;241m=\u001b[39m\u001b[38;5;241m2\u001b[39m\n",
            "\u001b[1;31mTypeError\u001b[0m: 'tuple' object does not support item assignment"
          ]
        }
      ],
      "source": [
        "tu1[0]=2"
      ]
    },
    {
      "cell_type": "code",
      "execution_count": 1,
      "id": "b95bfe89",
      "metadata": {
        "id": "b95bfe89"
      },
      "outputs": [],
      "source": [
        "enu=enumerate(['a','b'])"
      ]
    },
    {
      "cell_type": "code",
      "source": [
        "enu"
      ],
      "metadata": {
        "colab": {
          "base_uri": "https://localhost:8080/"
        },
        "id": "n8FK7CxX6D-K",
        "outputId": "9cd33296-5d8a-47a4-8ea2-3ef02eb04283"
      },
      "id": "n8FK7CxX6D-K",
      "execution_count": 2,
      "outputs": [
        {
          "output_type": "execute_result",
          "data": {
            "text/plain": [
              "<enumerate at 0x7dd01638aa80>"
            ]
          },
          "metadata": {},
          "execution_count": 2
        }
      ]
    },
    {
      "cell_type": "code",
      "source": [
        "id(enu)"
      ],
      "metadata": {
        "colab": {
          "base_uri": "https://localhost:8080/"
        },
        "id": "lbHrN_6G6IBb",
        "outputId": "7ba16da6-9d42-4deb-ef23-03109a82530d"
      },
      "id": "lbHrN_6G6IBb",
      "execution_count": 3,
      "outputs": [
        {
          "output_type": "execute_result",
          "data": {
            "text/plain": [
              "138332679481984"
            ]
          },
          "metadata": {},
          "execution_count": 3
        }
      ]
    },
    {
      "cell_type": "code",
      "source": [
        "hex(id(enu))"
      ],
      "metadata": {
        "colab": {
          "base_uri": "https://localhost:8080/",
          "height": 35
        },
        "id": "-JPx1MHf6Jwx",
        "outputId": "b70a207c-28ab-40d5-f6c1-cb7edbd8d5f9"
      },
      "id": "-JPx1MHf6Jwx",
      "execution_count": 4,
      "outputs": [
        {
          "output_type": "execute_result",
          "data": {
            "text/plain": [
              "'0x7dd01638aa80'"
            ],
            "application/vnd.google.colaboratory.intrinsic+json": {
              "type": "string"
            }
          },
          "metadata": {},
          "execution_count": 4
        }
      ]
    }
  ],
  "metadata": {
    "kernelspec": {
      "display_name": "Python 3 (ipykernel)",
      "language": "python",
      "name": "python3"
    },
    "language_info": {
      "codemirror_mode": {
        "name": "ipython",
        "version": 3
      },
      "file_extension": ".py",
      "mimetype": "text/x-python",
      "name": "python",
      "nbconvert_exporter": "python",
      "pygments_lexer": "ipython3",
      "version": "3.11.5"
    },
    "colab": {
      "provenance": [],
      "include_colab_link": true
    }
  },
  "nbformat": 4,
  "nbformat_minor": 5
}