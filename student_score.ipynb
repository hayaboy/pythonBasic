{
  "cells": [
    {
      "cell_type": "markdown",
      "metadata": {
        "id": "view-in-github",
        "colab_type": "text"
      },
      "source": [
        "<a href=\"https://colab.research.google.com/github/hayaboy/pythonBasic/blob/main/student_score.ipynb\" target=\"_parent\"><img src=\"https://colab.research.google.com/assets/colab-badge.svg\" alt=\"Open In Colab\"/></a>"
      ]
    },
    {
      "cell_type": "code",
      "execution_count": null,
      "metadata": {
        "id": "4dxBhwJ0cWi8"
      },
      "outputs": [],
      "source": [
        "## 클래스 정의\n",
        "class Student:\n",
        "    def __init__(self):\n",
        "        self.students = {}\n",
        "        self.sub_total_score = []\n",
        "        self.sub_avg_score = []\n",
        "\n",
        "    # 학생 이름 및 국영수 점수 등록\n",
        "    def enroll(self, name, kor, eng, math):\n",
        "        self.students[name] = [kor, eng, math]\n",
        "\n",
        "    # 특정 학생의 평균\n",
        "    def get_stu_avg(self, stu):\n",
        "        return \"{} 학생의 평균: {}\".format(stu, round(sum(self.students[stu]) / 3, 2))\n",
        "\n",
        "    # 과목별 점수 합산\n",
        "    def cal_sub_score(self):\n",
        "        for i in range(3): # 국영수 3과목\n",
        "            self.sub_total_score.append(sum(map(lambda x: x[i], self.students.values())))\n",
        "\n",
        "    # 과목별 평균\n",
        "    def get_sub_avg(self):\n",
        "        if not self.sub_total_score: # 과목별 점수 합산 함수 cal_sub_score()를 실행한 적 없다면 실행\n",
        "            self.cal_sub_score()\n",
        "\n",
        "        stu_n = len(self.students) # 전체 학생 수\n",
        "        for i in range(3): # 국영수 3과목\n",
        "            self.sub_avg_score.append(round(self.sub_total_score[i] / stu_n, 2))\n",
        "\n",
        "        return \"국어 평균: {}, 영어 평균: {}, 수학 평균: {}\".format(self.sub_avg_score[0], self.sub_avg_score[1], self.sub_avg_score[2])\n",
        "\n",
        "    # 전체 평균\n",
        "    def get_all_avg(self):\n",
        "        if not self.sub_total_score: # 과목별 점수 합산 함수 cal_sub_score()를 실행한 적 없다면 실행\n",
        "            self.cal_sub_score()\n",
        "\n",
        "        total_sum = sum(self.sub_total_score)\n",
        "        stu_n = len(self.students)\n",
        "        all_avg = round(total_sum / (stu_n * 3), 2)\n",
        "\n",
        "        return \"전체 평균: {}\".format(all_avg)"
      ]
    },
    {
      "cell_type": "code",
      "execution_count": null,
      "metadata": {
        "id": "Z67CLxVlcWi-",
        "outputId": "6aa06301-f0e2-4209-9f9d-b5fb2819dea6"
      },
      "outputs": [
        {
          "name": "stdout",
          "output_type": "stream",
          "text": [
            "홍일동 학생의 평균: 90.0\n",
            "홍이동 학생의 평균: 80.0\n",
            "홍삼동 학생의 평균: 70.0\n",
            "홍사동 학생의 평균: 60.0\n",
            "홍오동 학생의 평균: 50.0\n",
            "국어 평균: 70.0, 영어 평균: 70.0, 수학 평균: 70.0\n",
            "전체 평균: 70.0\n"
          ]
        }
      ],
      "source": [
        "stu_info = {\"홍일동\": [90, 90, 90],\n",
        "            \"홍이동\": [80, 80, 80],\n",
        "            \"홍삼동\": [70, 70, 70],\n",
        "            \"홍사동\": [60, 60, 60],\n",
        "            \"홍오동\": [50, 50, 50]}\n",
        "\n",
        "# 인스턴스 생성\n",
        "students = Student()\n",
        "\n",
        "for stu in stu_info:\n",
        "    # 학생 정보 등록\n",
        "    students.enroll(stu, stu_info[stu][0], stu_info[stu][1], stu_info[stu][2])\n",
        "    # 특정 학생에 대한 평균\n",
        "    print(students.get_stu_avg(stu))\n",
        "\n",
        "# 과목별 평균\n",
        "print(students.get_sub_avg())\n",
        "# 전체 평균\n",
        "print(students.get_all_avg())"
      ]
    },
    {
      "cell_type": "code",
      "execution_count": null,
      "metadata": {
        "id": "pBABrgsvcWi-"
      },
      "outputs": [],
      "source": []
    }
  ],
  "metadata": {
    "kernelspec": {
      "display_name": "base-2",
      "language": "python",
      "name": "python3"
    },
    "language_info": {
      "codemirror_mode": {
        "name": "ipython",
        "version": 3
      },
      "file_extension": ".py",
      "mimetype": "text/x-python",
      "name": "python",
      "nbconvert_exporter": "python",
      "pygments_lexer": "ipython3",
      "version": "3.8.15"
    },
    "colab": {
      "provenance": [],
      "include_colab_link": true
    }
  },
  "nbformat": 4,
  "nbformat_minor": 0
}