{
  "nbformat": 4,
  "nbformat_minor": 0,
  "metadata": {
    "colab": {
      "provenance": [],
      "authorship_tag": "ABX9TyMRh3qi7ro7fWM7KwEG8Od5",
      "include_colab_link": true
    },
    "kernelspec": {
      "name": "python3",
      "display_name": "Python 3"
    },
    "language_info": {
      "name": "python"
    }
  },
  "cells": [
    {
      "cell_type": "markdown",
      "metadata": {
        "id": "view-in-github",
        "colab_type": "text"
      },
      "source": [
        "<a href=\"https://colab.research.google.com/github/hayaboy/pythonBasic/blob/main/%ED%8C%8C%EC%9D%B4%EC%8D%AC%EB%8D%B0%EC%BD%94%EB%A0%88%EC%9D%B4%ED%84%B0_%ED%81%B4%EB%9E%98%EC%8A%A4.ipynb\" target=\"_parent\"><img src=\"https://colab.research.google.com/assets/colab-badge.svg\" alt=\"Open In Colab\"/></a>"
      ]
    },
    {
      "cell_type": "code",
      "execution_count": 1,
      "metadata": {
        "id": "yskLd_Z5MOZd"
      },
      "outputs": [],
      "source": [
        "# 함수 데코레이터를 생성합니다.\n",
        "def test(function):\n",
        "    def wrapper():\n",
        "        print(\"인사가 시작되었습니다.\")\n",
        "        function()\n",
        "        print(\"인사가 종료되었습니다.\")\n",
        "    return wrapper"
      ]
    },
    {
      "cell_type": "code",
      "source": [
        "# 데코레이터를 붙여 함수를 만듭니다.\n",
        "@test\n",
        "def hello():\n",
        "    print(\"hello\")"
      ],
      "metadata": {
        "id": "qF_UNCYDMlUg"
      },
      "execution_count": 2,
      "outputs": []
    },
    {
      "cell_type": "code",
      "source": [
        "# 함수를 호출합니다.\n",
        "hello()"
      ],
      "metadata": {
        "colab": {
          "base_uri": "https://localhost:8080/"
        },
        "id": "5zLbkLEuMvH9",
        "outputId": "ac340b76-6322-4cf6-ff83-8ca1e5dd16f7"
      },
      "execution_count": 3,
      "outputs": [
        {
          "output_type": "stream",
          "name": "stdout",
          "text": [
            "인사가 시작되었습니다.\n",
            "hello\n",
            "인사가 종료되었습니다.\n"
          ]
        }
      ]
    },
    {
      "cell_type": "code",
      "source": [
        "from functools import wraps"
      ],
      "metadata": {
        "id": "gDMGRbqmMzlF"
      },
      "execution_count": 4,
      "outputs": []
    },
    {
      "cell_type": "code",
      "source": [
        "help(wraps)"
      ],
      "metadata": {
        "colab": {
          "base_uri": "https://localhost:8080/"
        },
        "id": "tYk7ZjS1M7DM",
        "outputId": "aa446189-6785-473d-9428-a774a3a0efab"
      },
      "execution_count": 5,
      "outputs": [
        {
          "output_type": "stream",
          "name": "stdout",
          "text": [
            "Help on function wraps in module functools:\n",
            "\n",
            "wraps(wrapped, assigned=('__module__', '__name__', '__qualname__', '__doc__', '__annotations__'), updated=('__dict__',))\n",
            "    Decorator factory to apply update_wrapper() to a wrapper function\n",
            "    \n",
            "    Returns a decorator that invokes update_wrapper() with the decorated\n",
            "    function as the wrapper argument and the arguments to wraps() as the\n",
            "    remaining arguments. Default arguments are as for update_wrapper().\n",
            "    This is a convenience function to simplify applying partial() to\n",
            "    update_wrapper().\n",
            "\n"
          ]
        }
      ]
    },
    {
      "cell_type": "code",
      "source": [
        "def test(function):\n",
        "  @wraps(function)\n",
        "  def wrapper(*args, **kwargs):\n",
        "    print('인사 시작')\n",
        "    function(*args, **kwargs)\n",
        "    print('인사 시작')\n",
        "    return wrapper"
      ],
      "metadata": {
        "id": "wYgvqZbLM8pG"
      },
      "execution_count": 6,
      "outputs": []
    },
    {
      "cell_type": "code",
      "source": [
        "def my_decorator(f):\n",
        "    @wraps(f)\n",
        "    def decorated_function(*args, **kwargs):\n",
        "        print(\"Something is happening before the function is called.\")\n",
        "        result = f(*args, **kwargs)\n",
        "        print(\"Something is happening after the function is called.\")\n",
        "        return result\n",
        "    return decorated_function"
      ],
      "metadata": {
        "id": "vXSpxQ8pN10S"
      },
      "execution_count": 7,
      "outputs": []
    },
    {
      "cell_type": "code",
      "source": [
        "@my_decorator\n",
        "def my_function():\n",
        "    \"\"\"This is my function's docstring.\"\"\"\n",
        "    print(\"The function is being called.\")"
      ],
      "metadata": {
        "id": "xb1DSJkvN8S8"
      },
      "execution_count": 8,
      "outputs": []
    },
    {
      "cell_type": "code",
      "source": [
        "my_function()"
      ],
      "metadata": {
        "colab": {
          "base_uri": "https://localhost:8080/"
        },
        "id": "hrUF3P2sOGKM",
        "outputId": "c7e44971-9c3a-486c-8eb7-58355f8d5eff"
      },
      "execution_count": 9,
      "outputs": [
        {
          "output_type": "stream",
          "name": "stdout",
          "text": [
            "Something is happening before the function is called.\n",
            "The function is being called.\n",
            "Something is happening after the function is called.\n"
          ]
        }
      ]
    },
    {
      "cell_type": "code",
      "source": [
        "my_function.__name__"
      ],
      "metadata": {
        "colab": {
          "base_uri": "https://localhost:8080/",
          "height": 36
        },
        "id": "V6XPvgnyOJJ9",
        "outputId": "b8ab07ba-b135-4c82-c728-8b723cd196f7"
      },
      "execution_count": 10,
      "outputs": [
        {
          "output_type": "execute_result",
          "data": {
            "text/plain": [
              "'my_function'"
            ],
            "application/vnd.google.colaboratory.intrinsic+json": {
              "type": "string"
            }
          },
          "metadata": {},
          "execution_count": 10
        }
      ]
    },
    {
      "cell_type": "code",
      "source": [
        "my_function.__doc__"
      ],
      "metadata": {
        "colab": {
          "base_uri": "https://localhost:8080/",
          "height": 36
        },
        "id": "UH3Bdy4YOSkT",
        "outputId": "6cac8084-ed4c-4ced-fadc-88b7994ae0ea"
      },
      "execution_count": 11,
      "outputs": [
        {
          "output_type": "execute_result",
          "data": {
            "text/plain": [
              "\"This is my function's docstring.\""
            ],
            "application/vnd.google.colaboratory.intrinsic+json": {
              "type": "string"
            }
          },
          "metadata": {},
          "execution_count": 11
        }
      ]
    },
    {
      "cell_type": "code",
      "source": [
        "import math\n",
        "\n",
        "# 클래스를 선언합니다.\n",
        "class Circle:\n",
        "    def __init__(self, radius):\n",
        "        self.__radius = radius\n",
        "    def get_circumference(self):\n",
        "        return 2 * math.pi *  self.__radius\n",
        "    def get_area(self):\n",
        "        return math.pi * (self.__radius ** 2)\n",
        "\n",
        "    # 게터와 세터를 선언합니다.\n",
        "    @property\n",
        "    def radius(self):\n",
        "        return self.__radius\n",
        "    @radius.setter\n",
        "    def radius(self, value):\n",
        "        if value <= 0:\n",
        "            raise TypeError(\"길이는 양의 숫자여야 합니다.\")\n",
        "        self.__radius = value"
      ],
      "metadata": {
        "id": "x7oRTZcyPJKz"
      },
      "execution_count": 12,
      "outputs": []
    },
    {
      "cell_type": "code",
      "source": [
        "# 원의 둘레와 넓이를 구합니다.\n",
        "print(\"# 데코레이터를 사용한 Getter와 Setter\")\n",
        "circle = Circle(10)\n",
        "print(\"원래 원의 반지름: \", circle.radius)\n",
        "circle.radius = 2\n",
        "print(\"변경된 원의 반지름: \", circle.radius)\n",
        "print()"
      ],
      "metadata": {
        "colab": {
          "base_uri": "https://localhost:8080/"
        },
        "id": "MJPvjnysPclV",
        "outputId": "81018976-bce3-49a7-c2ea-3a6f1a0585a0"
      },
      "execution_count": 13,
      "outputs": [
        {
          "output_type": "stream",
          "name": "stdout",
          "text": [
            "# 데코레이터를 사용한 Getter와 Setter\n",
            "원래 원의 반지름:  10\n",
            "변경된 원의 반지름:  2\n",
            "\n"
          ]
        }
      ]
    },
    {
      "cell_type": "code",
      "source": [
        "\n",
        "# 강제로 예외를 발생시킵니다.\n",
        "print(\"# 강제로 예외를 발생시킵니다.\")\n",
        "circle.radius = -10"
      ],
      "metadata": {
        "colab": {
          "base_uri": "https://localhost:8080/",
          "height": 317
        },
        "id": "wM7JDCGVPeRE",
        "outputId": "83583f57-a753-40f5-dafe-8129cf6a2279"
      },
      "execution_count": 14,
      "outputs": [
        {
          "output_type": "stream",
          "name": "stdout",
          "text": [
            "# 강제로 예외를 발생시킵니다.\n"
          ]
        },
        {
          "output_type": "error",
          "ename": "TypeError",
          "evalue": "길이는 양의 숫자여야 합니다.",
          "traceback": [
            "\u001b[0;31m---------------------------------------------------------------------------\u001b[0m",
            "\u001b[0;31mTypeError\u001b[0m                                 Traceback (most recent call last)",
            "\u001b[0;32m<ipython-input-14-ff6e36a83383>\u001b[0m in \u001b[0;36m<cell line: 3>\u001b[0;34m()\u001b[0m\n\u001b[1;32m      1\u001b[0m \u001b[0;31m# 강제로 예외를 발생시킵니다.\u001b[0m\u001b[0;34m\u001b[0m\u001b[0;34m\u001b[0m\u001b[0m\n\u001b[1;32m      2\u001b[0m \u001b[0mprint\u001b[0m\u001b[0;34m(\u001b[0m\u001b[0;34m\"# 강제로 예외를 발생시킵니다.\"\u001b[0m\u001b[0;34m)\u001b[0m\u001b[0;34m\u001b[0m\u001b[0;34m\u001b[0m\u001b[0m\n\u001b[0;32m----> 3\u001b[0;31m \u001b[0mcircle\u001b[0m\u001b[0;34m.\u001b[0m\u001b[0mradius\u001b[0m \u001b[0;34m=\u001b[0m \u001b[0;34m-\u001b[0m\u001b[0;36m10\u001b[0m\u001b[0;34m\u001b[0m\u001b[0;34m\u001b[0m\u001b[0m\n\u001b[0m",
            "\u001b[0;32m<ipython-input-12-eb39dd8b03e6>\u001b[0m in \u001b[0;36mradius\u001b[0;34m(self, value)\u001b[0m\n\u001b[1;32m     17\u001b[0m     \u001b[0;32mdef\u001b[0m \u001b[0mradius\u001b[0m\u001b[0;34m(\u001b[0m\u001b[0mself\u001b[0m\u001b[0;34m,\u001b[0m \u001b[0mvalue\u001b[0m\u001b[0;34m)\u001b[0m\u001b[0;34m:\u001b[0m\u001b[0;34m\u001b[0m\u001b[0;34m\u001b[0m\u001b[0m\n\u001b[1;32m     18\u001b[0m         \u001b[0;32mif\u001b[0m \u001b[0mvalue\u001b[0m \u001b[0;34m<=\u001b[0m \u001b[0;36m0\u001b[0m\u001b[0;34m:\u001b[0m\u001b[0;34m\u001b[0m\u001b[0;34m\u001b[0m\u001b[0m\n\u001b[0;32m---> 19\u001b[0;31m             \u001b[0;32mraise\u001b[0m \u001b[0mTypeError\u001b[0m\u001b[0;34m(\u001b[0m\u001b[0;34m\"길이는 양의 숫자여야 합니다.\"\u001b[0m\u001b[0;34m)\u001b[0m\u001b[0;34m\u001b[0m\u001b[0;34m\u001b[0m\u001b[0m\n\u001b[0m\u001b[1;32m     20\u001b[0m         \u001b[0mself\u001b[0m\u001b[0;34m.\u001b[0m\u001b[0m__radius\u001b[0m \u001b[0;34m=\u001b[0m \u001b[0mvalue\u001b[0m\u001b[0;34m\u001b[0m\u001b[0;34m\u001b[0m\u001b[0m\n",
            "\u001b[0;31mTypeError\u001b[0m: 길이는 양의 숫자여야 합니다."
          ]
        }
      ]
    },
    {
      "cell_type": "code",
      "source": [],
      "metadata": {
        "id": "brmLBtH9Pf8L"
      },
      "execution_count": null,
      "outputs": []
    }
  ]
}